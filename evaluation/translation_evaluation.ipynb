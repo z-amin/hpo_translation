{
 "cells": [
  {
   "cell_type": "markdown",
   "id": "6c2e9d5df770a7d1",
   "metadata": {},
   "source": "# Evaluating results of final models"
  },
  {
   "metadata": {
    "ExecuteTime": {
     "end_time": "2024-06-12T15:06:13.523876Z",
     "start_time": "2024-06-12T15:06:13.516352Z"
    }
   },
   "cell_type": "code",
   "source": [
    "import csv\n",
    "import os\n",
    "\n",
    "import pandas as pd\n",
    "\n",
    "from evaluation.similarity.corpus_similarity import CorpusSimilarity\n",
    "\n",
    "\n",
    "def evaluate_for_model(folder_path: str, model_name: str):\n",
    "    translations_path = f\"{folder_path}/translations/{model_name}/\"\n",
    "    output_csv = f\"{folder_path}/metrics/{model_name}.csv\"\n",
    "\n",
    "    with open(output_csv, 'w', newline='') as csv_file:\n",
    "        field_names = ['model', 'filename', 'sacrebleu', \"`ter`\", 'semsim']\n",
    "        writer = csv.DictWriter(csv_file, fieldnames=field_names)\n",
    "        if csv_file.tell() == 0:\n",
    "            writer.writeheader()\n",
    "\n",
    "        for root, dirs, files in os.walk(translations_path):\n",
    "            for file_name in files:\n",
    "                file_path = os.path.join(root, file_name)\n",
    "                df = pd.read_csv(file_path)\n",
    "                print(f\"File: {file_path}\")\n",
    "\n",
    "                # file_path looks like translations/model/dataset.csv\n",
    "                dataset = file_path.split('/')[-1]\n",
    "                line = {'model': model_name, 'filename': dataset}\n",
    "\n",
    "                for metric in CorpusSimilarity:\n",
    "                    score = metric.evaluate(df[\"reference\"].tolist(), df[\"actual\"].tolist())\n",
    "                    print(f\"\\t{metric.name}: {score}\")\n",
    "\n",
    "                    match metric:\n",
    "                        case CorpusSimilarity.SACREBLEU:\n",
    "                            line['sacrebleu'] = score\n",
    "                        case CorpusSimilarity.TER:\n",
    "                            line[\"`ter`\"] = score\n",
    "                        case CorpusSimilarity.SEMANTIC_SIMILARITY:\n",
    "                            line['semsim'] = score\n",
    "\n",
    "                writer.writerow(line)"
   ],
   "id": "70fab52bafd2838e",
   "outputs": [],
   "execution_count": 6
  },
  {
   "metadata": {},
   "cell_type": "markdown",
   "source": "## Pre-trained experiments",
   "id": "9bb8dfe999c432d6"
  },
  {
   "metadata": {
    "ExecuteTime": {
     "end_time": "2024-06-12T15:06:13.529302Z",
     "start_time": "2024-06-12T15:06:13.525529Z"
    }
   },
   "cell_type": "code",
   "source": "folder = \"pretrained_experiments\"",
   "id": "4744baf7d9189d6f",
   "outputs": [],
   "execution_count": 7
  },
  {
   "metadata": {
    "ExecuteTime": {
     "end_time": "2024-06-12T15:09:42.801518Z",
     "start_time": "2024-06-12T15:06:16.941785Z"
    }
   },
   "cell_type": "code",
   "source": "evaluate_for_model(folder, \"helsinki-nlp\")",
   "id": "4f150bfe03ada72b",
   "outputs": [
    {
     "name": "stdout",
     "output_type": "stream",
     "text": [
      "File: pretrained_experiments/translations/helsinki-nlp/orphanet-definitions-tr.csv\n",
      "\tSACREBLEU: 45.6\n",
      "\tTER: 61.6\n",
      "\tSEMANTIC_SIMILARITY: 93.6\n",
      "File: pretrained_experiments/translations/helsinki-nlp/clinspen-tr.csv\n",
      "\tSACREBLEU: 39.6\n",
      "\tTER: 55.6\n",
      "\tSEMANTIC_SIMILARITY: 92.2\n",
      "File: pretrained_experiments/translations/helsinki-nlp/orphanet-terms.csv\n",
      "\tSACREBLEU: 46.0\n",
      "\tTER: 61.4\n",
      "\tSEMANTIC_SIMILARITY: 94.5\n",
      "File: pretrained_experiments/translations/helsinki-nlp/medline.csv\n",
      "\tSACREBLEU: 54.5\n",
      "\tTER: 70.4\n",
      "\tSEMANTIC_SIMILARITY: 93.7\n",
      "File: pretrained_experiments/translations/helsinki-nlp/pubmed-tr.csv\n",
      "\tSACREBLEU: 42.9\n",
      "\tTER: 55.8\n",
      "\tSEMANTIC_SIMILARITY: 92.3\n",
      "File: pretrained_experiments/translations/helsinki-nlp/khresmoi-tr.csv\n",
      "\tSACREBLEU: 48.0\n",
      "\tTER: 66.1\n",
      "\tSEMANTIC_SIMILARITY: 95.5\n",
      "File: pretrained_experiments/translations/helsinki-nlp/snomed.csv\n",
      "\tSACREBLEU: 28.2\n",
      "\tTER: 41.1\n",
      "\tSEMANTIC_SIMILARITY: 81.4\n",
      "File: pretrained_experiments/translations/helsinki-nlp/preferred-en2es.csv\n",
      "\tSACREBLEU: 27.1\n",
      "\tTER: 37.6\n",
      "\tSEMANTIC_SIMILARITY: 87.0\n"
     ]
    }
   ],
   "execution_count": 8
  },
  {
   "metadata": {
    "ExecuteTime": {
     "end_time": "2024-06-12T15:12:51.070999Z",
     "start_time": "2024-06-12T15:09:47.940711Z"
    }
   },
   "cell_type": "code",
   "source": "evaluate_for_model(folder, \"madlad\")",
   "id": "586fe74b89519f5d",
   "outputs": [
    {
     "name": "stdout",
     "output_type": "stream",
     "text": [
      "File: pretrained_experiments/translations/madlad/orphanet-definitions-tr.csv\n",
      "\tSACREBLEU: 50.7\n",
      "\tTER: 64.3\n",
      "\tSEMANTIC_SIMILARITY: 93.9\n",
      "File: pretrained_experiments/translations/madlad/clinspen-tr.csv\n",
      "\tSACREBLEU: 39.3\n",
      "\tTER: 50.1\n",
      "\tSEMANTIC_SIMILARITY: 90.7\n",
      "File: pretrained_experiments/translations/madlad/orphanet-terms.csv\n",
      "\tSACREBLEU: 53.4\n",
      "\tTER: 66.7\n",
      "\tSEMANTIC_SIMILARITY: 95.5\n",
      "File: pretrained_experiments/translations/madlad/medline.csv\n",
      "\tSACREBLEU: 56.4\n",
      "\tTER: 71.1\n",
      "\tSEMANTIC_SIMILARITY: 94.0\n",
      "File: pretrained_experiments/translations/madlad/pubmed-tr.csv\n",
      "\tSACREBLEU: 45.7\n",
      "\tTER: 57.9\n",
      "\tSEMANTIC_SIMILARITY: 92.6\n",
      "File: pretrained_experiments/translations/madlad/khresmoi-tr.csv\n",
      "\tSACREBLEU: 48.3\n",
      "\tTER: 66.5\n",
      "\tSEMANTIC_SIMILARITY: 95.5\n",
      "File: pretrained_experiments/translations/madlad/snomed.csv\n",
      "\tSACREBLEU: 31.5\n",
      "\tTER: 42.5\n",
      "\tSEMANTIC_SIMILARITY: 82.1\n",
      "File: pretrained_experiments/translations/madlad/preferred-en2es.csv\n",
      "\tSACREBLEU: 16.9\n",
      "\tTER: 15.2\n",
      "\tSEMANTIC_SIMILARITY: 84.7\n"
     ]
    }
   ],
   "execution_count": 9
  },
  {
   "metadata": {
    "ExecuteTime": {
     "end_time": "2024-06-12T15:16:50.658023Z",
     "start_time": "2024-06-12T15:13:45.337765Z"
    }
   },
   "cell_type": "code",
   "source": "evaluate_for_model(folder, \"nllb-3B\")",
   "id": "28f4dcf1e5a7973f",
   "outputs": [
    {
     "name": "stdout",
     "output_type": "stream",
     "text": [
      "File: pretrained_experiments/translations/nllb-3B/orphanet-definitions-tr.csv\n",
      "\tSACREBLEU: 45.3\n",
      "\tTER: 59.7\n",
      "\tSEMANTIC_SIMILARITY: 93.8\n",
      "File: pretrained_experiments/translations/nllb-3B/clinspen-tr.csv\n",
      "\tSACREBLEU: 36.6\n",
      "\tTER: 48.0\n",
      "\tSEMANTIC_SIMILARITY: 89.5\n",
      "File: pretrained_experiments/translations/nllb-3B/orphanet-terms.csv\n",
      "\tSACREBLEU: 38.4\n",
      "\tTER: 53.1\n",
      "\tSEMANTIC_SIMILARITY: 93.2\n",
      "File: pretrained_experiments/translations/nllb-3B/medline.csv\n",
      "\tSACREBLEU: 51.9\n",
      "\tTER: 67.2\n",
      "\tSEMANTIC_SIMILARITY: 93.2\n",
      "File: pretrained_experiments/translations/nllb-3B/pubmed-tr.csv\n",
      "\tSACREBLEU: 43.5\n",
      "\tTER: 55.1\n",
      "\tSEMANTIC_SIMILARITY: 92.2\n",
      "File: pretrained_experiments/translations/nllb-3B/khresmoi-tr.csv\n",
      "\tSACREBLEU: 46.7\n",
      "\tTER: 65.0\n",
      "\tSEMANTIC_SIMILARITY: 95.4\n",
      "File: pretrained_experiments/translations/nllb-3B/snomed.csv\n",
      "\tSACREBLEU: 18.7\n",
      "\tTER: 12.6\n",
      "\tSEMANTIC_SIMILARITY: 79.7\n",
      "File: pretrained_experiments/translations/nllb-3B/preferred-en2es.csv\n",
      "\tSACREBLEU: 12.7\n",
      "\tTER: 0.5\n",
      "\tSEMANTIC_SIMILARITY: 81.3\n"
     ]
    }
   ],
   "execution_count": 10
  },
  {
   "metadata": {
    "ExecuteTime": {
     "end_time": "2024-06-12T15:21:15.640341Z",
     "start_time": "2024-06-12T15:17:53.752055Z"
    }
   },
   "cell_type": "code",
   "source": "evaluate_for_model(folder, \"nllb-600M\")",
   "id": "33be10c504088c26",
   "outputs": [
    {
     "name": "stdout",
     "output_type": "stream",
     "text": [
      "File: pretrained_experiments/translations/nllb-600M/orphanet-definitions-tr.csv\n",
      "\tSACREBLEU: 35.7\n",
      "\tTER: 51.3\n",
      "\tSEMANTIC_SIMILARITY: 92.5\n",
      "File: pretrained_experiments/translations/nllb-600M/clinspen-tr.csv\n",
      "\tSACREBLEU: 36.0\n",
      "\tTER: 49.5\n",
      "\tSEMANTIC_SIMILARITY: 91.0\n",
      "File: pretrained_experiments/translations/nllb-600M/orphanet-terms.csv\n",
      "\tSACREBLEU: 38.4\n",
      "\tTER: 53.1\n",
      "\tSEMANTIC_SIMILARITY: 93.2\n",
      "File: pretrained_experiments/translations/nllb-600M/medline.csv\n",
      "\tSACREBLEU: 51.9\n",
      "\tTER: 67.2\n",
      "\tSEMANTIC_SIMILARITY: 93.2\n",
      "File: pretrained_experiments/translations/nllb-600M/pubmed-tr.csv\n",
      "\tSACREBLEU: 43.5\n",
      "\tTER: 55.1\n",
      "\tSEMANTIC_SIMILARITY: 92.2\n",
      "File: pretrained_experiments/translations/nllb-600M/khresmoi-tr.csv\n",
      "\tSACREBLEU: 45.2\n",
      "\tTER: 63.9\n",
      "\tSEMANTIC_SIMILARITY: 95.1\n",
      "File: pretrained_experiments/translations/nllb-600M/snomed.csv\n",
      "\tSACREBLEU: 18.7\n",
      "\tTER: 12.6\n",
      "\tSEMANTIC_SIMILARITY: 79.7\n",
      "File: pretrained_experiments/translations/nllb-600M/preferred-en2es.csv\n",
      "\tSACREBLEU: 12.7\n",
      "\tTER: 0.5\n",
      "\tSEMANTIC_SIMILARITY: 81.3\n"
     ]
    }
   ],
   "execution_count": 11
  },
  {
   "metadata": {},
   "cell_type": "markdown",
   "source": "## Test experiments",
   "id": "2f2e39dba26ea077"
  },
  {
   "metadata": {},
   "cell_type": "markdown",
   "source": "#### No processing",
   "id": "7cc9a5c0e67c9099"
  },
  {
   "metadata": {
    "ExecuteTime": {
     "end_time": "2024-06-12T15:21:59.348414Z",
     "start_time": "2024-06-12T15:21:59.344569Z"
    }
   },
   "cell_type": "code",
   "source": "folder = \"test_data/models\"",
   "id": "f6d4c7821b97a07d",
   "outputs": [],
   "execution_count": 12
  },
  {
   "metadata": {
    "ExecuteTime": {
     "end_time": "2024-06-12T15:31:31.164681Z",
     "start_time": "2024-06-12T15:22:38.337840Z"
    }
   },
   "cell_type": "code",
   "source": "evaluate_for_model(folder, \"finetuned-all\")",
   "id": "e4a1b9b9a41eb932",
   "outputs": [
    {
     "name": "stdout",
     "output_type": "stream",
     "text": [
      "File: test_data/models/translations/finetuned-all/pubmed-te.csv\n",
      "\tSACREBLEU: 46.3\n",
      "\tTER: 59.7\n",
      "\tSEMANTIC_SIMILARITY: 93.5\n",
      "File: test_data/models/translations/finetuned-all/clinspen-te.csv\n",
      "\tSACREBLEU: 55.4\n",
      "\tTER: 67.7\n",
      "\tSEMANTIC_SIMILARITY: 94.1\n",
      "File: test_data/models/translations/finetuned-all/hpo.csv\n",
      "\tSACREBLEU: 49.2\n",
      "\tTER: 59.7\n",
      "\tSEMANTIC_SIMILARITY: 92.6\n",
      "File: test_data/models/translations/finetuned-all/orphanet-definitions-te.csv\n",
      "\tSACREBLEU: 61.6\n",
      "\tTER: 73.6\n",
      "\tSEMANTIC_SIMILARITY: 96.0\n",
      "File: test_data/models/translations/finetuned-all/khresmoi-te.csv\n",
      "\tSACREBLEU: 47.9\n",
      "\tTER: 65.7\n",
      "\tSEMANTIC_SIMILARITY: 95.7\n"
     ]
    }
   ],
   "execution_count": 14
  },
  {
   "metadata": {
    "ExecuteTime": {
     "end_time": "2024-06-12T15:41:14.354736Z",
     "start_time": "2024-06-12T15:32:20.404349Z"
    }
   },
   "cell_type": "code",
   "source": "evaluate_for_model(folder, \"finetuned-cl\")",
   "id": "8bb380003cf45f26",
   "outputs": [
    {
     "name": "stdout",
     "output_type": "stream",
     "text": [
      "File: test_data/models/translations/finetuned-cl/pubmed-te.csv\n",
      "\tSACREBLEU: 48.5\n",
      "\tTER: 61.6\n",
      "\tSEMANTIC_SIMILARITY: 94.0\n",
      "File: test_data/models/translations/finetuned-cl/clinspen-te.csv\n",
      "\tSACREBLEU: 41.9\n",
      "\tTER: 56.6\n",
      "\tSEMANTIC_SIMILARITY: 92.8\n",
      "File: test_data/models/translations/finetuned-cl/hpo.csv\n",
      "\tSACREBLEU: 50.2\n",
      "\tTER: 61.9\n",
      "\tSEMANTIC_SIMILARITY: 92.6\n",
      "File: test_data/models/translations/finetuned-cl/orphanet-definitions-te.csv\n",
      "\tSACREBLEU: 57.7\n",
      "\tTER: 71.5\n",
      "\tSEMANTIC_SIMILARITY: 95.4\n",
      "File: test_data/models/translations/finetuned-cl/khresmoi-te.csv\n",
      "\tSACREBLEU: 48.6\n",
      "\tTER: 66.6\n",
      "\tSEMANTIC_SIMILARITY: 95.8\n"
     ]
    }
   ],
   "execution_count": 15
  },
  {
   "metadata": {
    "ExecuteTime": {
     "end_time": "2024-06-12T15:51:43.690428Z",
     "start_time": "2024-06-12T15:42:27.175382Z"
    }
   },
   "cell_type": "code",
   "source": "evaluate_for_model(folder, \"helsinki-nlp\")",
   "id": "580001ea3363ee3e",
   "outputs": [
    {
     "name": "stdout",
     "output_type": "stream",
     "text": [
      "File: test_data/models/translations/helsinki-nlp/pubmed-te.csv\n",
      "\tSACREBLEU: 48.7\n",
      "\tTER: 62.0\n",
      "\tSEMANTIC_SIMILARITY: 94.0\n",
      "File: test_data/models/translations/helsinki-nlp/clinspen-te.csv\n",
      "\tSACREBLEU: 40.2\n",
      "\tTER: 55.1\n",
      "\tSEMANTIC_SIMILARITY: 92.1\n",
      "File: test_data/models/translations/helsinki-nlp/hpo.csv\n",
      "\tSACREBLEU: 48.2\n",
      "\tTER: 60.1\n",
      "\tSEMANTIC_SIMILARITY: 92.2\n",
      "File: test_data/models/translations/helsinki-nlp/orphanet-definitions-te.csv\n",
      "\tSACREBLEU: 46.4\n",
      "\tTER: 62.2\n",
      "\tSEMANTIC_SIMILARITY: 93.9\n",
      "File: test_data/models/translations/helsinki-nlp/khresmoi-te.csv\n",
      "\tSACREBLEU: 49.6\n",
      "\tTER: 67.6\n",
      "\tSEMANTIC_SIMILARITY: 95.9\n"
     ]
    }
   ],
   "execution_count": 16
  },
  {
   "metadata": {
    "ExecuteTime": {
     "end_time": "2024-06-12T16:02:23.103041Z",
     "start_time": "2024-06-12T15:52:56.164668Z"
    }
   },
   "cell_type": "code",
   "source": "evaluate_for_model(folder, \"madlad\")",
   "id": "a6448170ea848b55",
   "outputs": [
    {
     "name": "stdout",
     "output_type": "stream",
     "text": [
      "File: test_data/models/translations/madlad/pubmed-te.csv\n",
      "\tSACREBLEU: 51.8\n",
      "\tTER: 63.8\n",
      "\tSEMANTIC_SIMILARITY: 94.3\n",
      "File: test_data/models/translations/madlad/clinspen-te.csv\n",
      "\tSACREBLEU: 38.8\n",
      "\tTER: 48.5\n",
      "\tSEMANTIC_SIMILARITY: 90.5\n",
      "File: test_data/models/translations/madlad/hpo.csv\n",
      "\tSACREBLEU: 54.2\n",
      "\tTER: 63.0\n",
      "\tSEMANTIC_SIMILARITY: 92.8\n",
      "File: test_data/models/translations/madlad/orphanet-definitions-te.csv\n",
      "\tSACREBLEU: 50.8\n",
      "\tTER: 64.0\n",
      "\tSEMANTIC_SIMILARITY: 93.8\n",
      "File: test_data/models/translations/madlad/khresmoi-te.csv\n",
      "\tSACREBLEU: 50.1\n",
      "\tTER: 68.2\n",
      "\tSEMANTIC_SIMILARITY: 96.1\n"
     ]
    }
   ],
   "execution_count": 17
  },
  {
   "metadata": {
    "ExecuteTime": {
     "end_time": "2024-06-12T16:12:49.095357Z",
     "start_time": "2024-06-12T16:03:32.058617Z"
    }
   },
   "cell_type": "code",
   "source": "evaluate_for_model(folder, \"nllb-3B\")",
   "id": "3320bf3907e77af4",
   "outputs": [
    {
     "name": "stdout",
     "output_type": "stream",
     "text": [
      "File: test_data/models/translations/nllb-3B/pubmed-te.csv\n",
      "\tSACREBLEU: 49.3\n",
      "\tTER: 61.8\n",
      "\tSEMANTIC_SIMILARITY: 93.9\n",
      "File: test_data/models/translations/nllb-3B/clinspen-te.csv\n",
      "\tSACREBLEU: 36.1\n",
      "\tTER: 45.4\n",
      "\tSEMANTIC_SIMILARITY: 90.0\n",
      "File: test_data/models/translations/nllb-3B/hpo.csv\n",
      "\tSACREBLEU: 45.1\n",
      "\tTER: 51.4\n",
      "\tSEMANTIC_SIMILARITY: 90.5\n",
      "File: test_data/models/translations/nllb-3B/orphanet-definitions-te.csv\n",
      "\tSACREBLEU: 45.9\n",
      "\tTER: 60.6\n",
      "\tSEMANTIC_SIMILARITY: 93.7\n",
      "File: test_data/models/translations/nllb-3B/khresmoi-te.csv\n",
      "\tSACREBLEU: 49.3\n",
      "\tTER: 67.4\n",
      "\tSEMANTIC_SIMILARITY: 96.0\n"
     ]
    }
   ],
   "execution_count": 18
  },
  {
   "metadata": {},
   "cell_type": "markdown",
   "source": "### Processing techniques",
   "id": "567268d5d873d90d"
  },
  {
   "metadata": {
    "ExecuteTime": {
     "end_time": "2024-06-12T16:13:46.288421Z",
     "start_time": "2024-06-12T16:13:46.283557Z"
    }
   },
   "cell_type": "code",
   "source": [
    "def evaluate(folder_path: str):\n",
    "    translations_path = f\"{folder_path}/translations/\"\n",
    "    output_csv = f\"{folder_path}/metrics.csv\"\n",
    "\n",
    "    with open(output_csv, 'w', newline='') as csv_file:\n",
    "        field_names = ['filename', 'sacrebleu', \"`ter`\", 'semsim']\n",
    "        writer = csv.DictWriter(csv_file, fieldnames=field_names)\n",
    "        if csv_file.tell() == 0:\n",
    "            writer.writeheader()\n",
    "\n",
    "        for root, dirs, files in os.walk(translations_path):\n",
    "            for file_name in files:\n",
    "                file_path = os.path.join(root, file_name)\n",
    "                df = pd.read_csv(file_path)\n",
    "                print(f\"File: {file_path}\")\n",
    "\n",
    "                # file_path looks like translations/dataset.csv\n",
    "                dataset = file_path.split('/')[-1]\n",
    "                line = {'filename': dataset}\n",
    "\n",
    "                for metric in CorpusSimilarity:\n",
    "                    score = metric.evaluate(df[\"reference\"].tolist(), df[\"translation\"].tolist())\n",
    "                    print(f\"\\t{metric.name}: {score}\")\n",
    "\n",
    "                    match metric:\n",
    "                        case CorpusSimilarity.SACREBLEU:\n",
    "                            line['sacrebleu'] = score\n",
    "                        case CorpusSimilarity.TER:\n",
    "                            line[\"`ter`\"] = score\n",
    "                        case CorpusSimilarity.SEMANTIC_SIMILARITY:\n",
    "                            line['semsim'] = score\n",
    "\n",
    "                writer.writerow(line)"
   ],
   "id": "64aac802017a2671",
   "outputs": [],
   "execution_count": 21
  },
  {
   "metadata": {},
   "cell_type": "markdown",
   "source": "#### Abbreviation expansion",
   "id": "8d0587c20bb2abe0"
  },
  {
   "metadata": {
    "ExecuteTime": {
     "end_time": "2024-06-12T16:22:46.234555Z",
     "start_time": "2024-06-12T16:13:50.739830Z"
    }
   },
   "cell_type": "code",
   "source": "evaluate(\"test_data/abbreviation_expansion\")",
   "id": "3b90a6370b866dd3",
   "outputs": [
    {
     "name": "stdout",
     "output_type": "stream",
     "text": [
      "File: test_data/abbreviation_expansion/translations/pubmed-te.csv\n",
      "\tSACREBLEU: 45.4\n",
      "\tTER: 58.4\n",
      "\tSEMANTIC_SIMILARITY: 92.2\n",
      "File: test_data/abbreviation_expansion/translations/clinspen-te.csv\n",
      "\tSACREBLEU: 50.2\n",
      "\tTER: 63.4\n",
      "\tSEMANTIC_SIMILARITY: 93.1\n",
      "File: test_data/abbreviation_expansion/translations/hpo.csv\n",
      "\tSACREBLEU: 47.7\n",
      "\tTER: 58.3\n",
      "\tSEMANTIC_SIMILARITY: 92.0\n",
      "File: test_data/abbreviation_expansion/translations/orphanet-definitions-te.csv\n",
      "\tSACREBLEU: 61.2\n",
      "\tTER: 73.2\n",
      "\tSEMANTIC_SIMILARITY: 95.7\n",
      "File: test_data/abbreviation_expansion/translations/khresmoi-te.csv\n",
      "\tSACREBLEU: 47.1\n",
      "\tTER: 64.9\n",
      "\tSEMANTIC_SIMILARITY: 94.7\n"
     ]
    }
   ],
   "execution_count": 22
  },
  {
   "metadata": {},
   "cell_type": "markdown",
   "source": "#### Synonym replacement",
   "id": "197569c1525054b0"
  },
  {
   "metadata": {
    "ExecuteTime": {
     "end_time": "2024-06-12T16:32:44.391425Z",
     "start_time": "2024-06-12T16:23:34.352007Z"
    }
   },
   "cell_type": "code",
   "source": "evaluate(\"test_data/synonym_replacement\")",
   "id": "7c9d4015d41c0d84",
   "outputs": [
    {
     "name": "stdout",
     "output_type": "stream",
     "text": [
      "File: test_data/synonym_replacement/translations/pubmed-te.csv\n",
      "\tSACREBLEU: 45.8\n",
      "\tTER: 59.2\n",
      "\tSEMANTIC_SIMILARITY: 93.4\n",
      "File: test_data/synonym_replacement/translations/clinspen-te.csv\n",
      "\tSACREBLEU: 54.3\n",
      "\tTER: 66.2\n",
      "\tSEMANTIC_SIMILARITY: 93.5\n",
      "File: test_data/synonym_replacement/translations/hpo.csv\n",
      "\tSACREBLEU: 46.8\n",
      "\tTER: 56.9\n",
      "\tSEMANTIC_SIMILARITY: 91.6\n",
      "File: test_data/synonym_replacement/translations/orphanet-definitions-te.csv\n",
      "\tSACREBLEU: 58.9\n",
      "\tTER: 71.7\n",
      "\tSEMANTIC_SIMILARITY: 95.3\n",
      "File: test_data/synonym_replacement/translations/khresmoi-te.csv\n",
      "\tSACREBLEU: 46.1\n",
      "\tTER: 64.4\n",
      "\tSEMANTIC_SIMILARITY: 95.0\n"
     ]
    }
   ],
   "execution_count": 23
  }
 ],
 "metadata": {
  "kernelspec": {
   "display_name": "Python 3 (ipykernel)",
   "language": "python",
   "name": "python3"
  },
  "language_info": {
   "codemirror_mode": {
    "name": "ipython",
    "version": 3
   },
   "file_extension": ".py",
   "mimetype": "text/x-python",
   "name": "python",
   "nbconvert_exporter": "python",
   "pygments_lexer": "ipython3",
   "version": "3.9.19"
  }
 },
 "nbformat": 4,
 "nbformat_minor": 5
}
