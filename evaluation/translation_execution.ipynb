{
 "cells": [
  {
   "cell_type": "markdown",
   "id": "6c2e9d5df770a7d1",
   "metadata": {
    "id": "6c2e9d5df770a7d1"
   },
   "source": "# Translating biomedical text"
  },
  {
   "cell_type": "markdown",
   "id": "1c17fb211e964c4",
   "metadata": {
    "id": "1c17fb211e964c4"
   },
   "source": [
    "## Loading and evaluation functions"
   ]
  },
  {
   "cell_type": "code",
   "id": "8b2b36bc1be316f1",
   "metadata": {
    "id": "8b2b36bc1be316f1",
    "executionInfo": {
     "status": "ok",
     "timestamp": 1716203266953,
     "user_tz": -120,
     "elapsed": 7,
     "user": {
      "displayName": "Zaki Amin",
      "userId": "04947632139018387421"
     }
    }
   },
   "source": [
    "import json\n",
    "\n",
    "import pandas as pd\n",
    "from tqdm import tqdm\n",
    "\n",
    "from evaluations.models import TranslationModel\n",
    "\n",
    "\n",
    "def load_all_sentences(test_dataset: str) -> pd.DataFrame:\n",
    "    data = []\n",
    "    with open(test_dataset, \"r\") as f:\n",
    "        for line in f:\n",
    "            loaded = json.loads(line)\n",
    "            english, spanish = loaded['en'].strip('\"'), loaded['es'].strip('\"')\n",
    "            data.append({\"en\": english, \"es\": spanish})\n",
    "    return pd.DataFrame(data)\n",
    "\n",
    "\n",
    "def load_sample_sentences(test_dataset: str, num_rows=500, seed=42) -> pd.DataFrame:\n",
    "    df = load_all_sentences(test_dataset)\n",
    "    return df.sample(n=num_rows, random_state=seed)\n",
    "\n",
    "\n",
    "def run_model(model: TranslationModel, test_sentences: pd.DataFrame):\n",
    "    \"\"\"Runs a model on the test sentences.\n",
    "    Creates a dataframe for the results with two columns: 'reference' and 'candidate'\n",
    "    :param model: the MT model to evaluate\n",
    "    :param test_sentences: a dataframe for a parallel corpus\"\"\"\n",
    "    df = pd.DataFrame(columns=['reference', 'candidate'])\n",
    "    for _, row in tqdm(test_sentences.iterrows(), total=test_sentences.shape[0]):\n",
    "        english, reference = row['en'], row['es']\n",
    "        candidate = model.translate(english)\n",
    "        df.loc[len(df.index)] = [reference, candidate]\n",
    "    return df\n",
    "\n",
    "\n",
    "def run_model_on_datasets(translation_model: TranslationModel, dataset_names: list[str], corpus_directory: str,\n",
    "                          sample: bool, output_directory: str):\n",
    "    for test_dataset in dataset_names:\n",
    "        print(f\"Test dataset: {test_dataset}\")\n",
    "        test_path = f\"{corpus_directory}/{test_dataset}\"\n",
    "\n",
    "        if sample:\n",
    "            test_sentences = load_sample_sentences(test_path)\n",
    "        else:\n",
    "            test_sentences = load_all_sentences(test_path)\n",
    "\n",
    "        results = run_model(translation_model, test_sentences)\n",
    "        out_file = test_dataset.replace(\".jsonl\", \".csv\")\n",
    "        results.to_csv(f\"{output_directory}/translations/{translation_model}/{out_file}\", index=False)"
   ],
   "execution_count": null,
   "outputs": []
  },
  {
   "metadata": {},
   "cell_type": "markdown",
   "source": "## Preliminary experiments",
   "id": "15d304b517d2f2a7"
  },
  {
   "metadata": {},
   "cell_type": "code",
   "outputs": [],
   "execution_count": null,
   "source": "from evaluations.models import HelsinkiNLP, Madlad, NLLB3B, NLLB600M",
   "id": "be40769197faf34d"
  },
  {
   "metadata": {},
   "cell_type": "code",
   "outputs": [],
   "execution_count": null,
   "source": [
    "corpus = \"../corpus/train\"\n",
    "output_dir = \"pretrained_experiments\"\n",
    "filenames = [\"clinspen-tr\", \"khresmoi-tr\", \"medline\", \"orphanet-definitions-tr\", \"orphanet-terms\", \"preferred-en2es\",\n",
    "             \"pubmed-tr\", \"snomed\"]\n",
    "filenames = [f + \".jsonl\" for f in filenames]"
   ],
   "id": "e73757ae6f25becd"
  },
  {
   "metadata": {},
   "cell_type": "code",
   "outputs": [],
   "execution_count": null,
   "source": "run_model_on_datasets(HelsinkiNLP(), filenames, corpus, sample=True, output_directory=output_dir)",
   "id": "4404ccd8a9caee93"
  },
  {
   "metadata": {},
   "cell_type": "code",
   "outputs": [],
   "execution_count": null,
   "source": "run_model_on_datasets(NLLB600M(), filenames, corpus, sample=True, output_directory=output_dir)",
   "id": "6f9f99a0362cea2f"
  },
  {
   "metadata": {},
   "cell_type": "code",
   "outputs": [],
   "execution_count": null,
   "source": "run_model_on_datasets(NLLB3B(), filenames, corpus, sample=True, output_directory=output_dir)",
   "id": "bb1484a058000a07"
  },
  {
   "metadata": {},
   "cell_type": "code",
   "outputs": [],
   "execution_count": null,
   "source": "run_model_on_datasets(Madlad(), filenames, corpus, sample=True, output_directory=output_dir)",
   "id": "62283e4205239b1"
  },
  {
   "cell_type": "markdown",
   "id": "cef891a86bb7091d",
   "metadata": {
    "id": "cef891a86bb7091d"
   },
   "source": "## Test data"
  },
  {
   "metadata": {},
   "cell_type": "markdown",
   "source": "### All models",
   "id": "61ff6d4f66c70244"
  },
  {
   "metadata": {},
   "cell_type": "code",
   "outputs": [],
   "execution_count": null,
   "source": "from evaluations.models import FineTuned",
   "id": "311780cde63eb2c5"
  },
  {
   "cell_type": "code",
   "id": "92159dcf4eaca7d8",
   "metadata": {
    "jupyter": {
     "is_executing": true
    },
    "id": "92159dcf4eaca7d8",
    "executionInfo": {
     "status": "ok",
     "timestamp": 1716203266953,
     "user_tz": -120,
     "elapsed": 6,
     "user": {
      "displayName": "Zaki Amin",
      "userId": "04947632139018387421"
     }
    }
   },
   "source": [
    "corpus = \"../corpus/test\"\n",
    "output_dir = \"test_data/models\"\n",
    "filenames = [\"clinspen-te\", \"hpo\", \"khresmoi-te\", \"orphanet-definitions-te\", \"pubmed-te\"]\n",
    "filenames = [f + \".jsonl\" for f in filenames]"
   ],
   "execution_count": null,
   "outputs": []
  },
  {
   "cell_type": "code",
   "id": "72ab51328f9f73e",
   "metadata": {
    "jupyter": {
     "is_executing": true
    },
    "id": "72ab51328f9f73e",
    "colab": {
     "base_uri": "https://localhost:8080/"
    },
    "executionInfo": {
     "status": "ok",
     "timestamp": 1716203615792,
     "user_tz": -120,
     "elapsed": 301581,
     "user": {
      "displayName": "Zaki Amin",
      "userId": "04947632139018387421"
     }
    },
    "outputId": "98f0776d-c633-4068-8857-8659eda76a3f"
   },
   "source": "run_model_on_datasets(FineTuned(), filenames, corpus, sample=False, output_directory=output_dir)",
   "execution_count": null,
   "outputs": []
  },
  {
   "metadata": {},
   "cell_type": "code",
   "outputs": [],
   "execution_count": null,
   "source": "run_model_on_datasets(HelsinkiNLP(), filenames, corpus, sample=False, output_directory=output_dir)",
   "id": "42ce1db368e54a1f"
  },
  {
   "metadata": {},
   "cell_type": "code",
   "outputs": [],
   "execution_count": null,
   "source": "run_model_on_datasets(NLLB3B(), filenames, corpus, sample=False, output_directory=output_dir)",
   "id": "372fe036d6963932"
  },
  {
   "metadata": {},
   "cell_type": "code",
   "outputs": [],
   "execution_count": null,
   "source": "run_model_on_datasets(Madlad(), filenames, corpus, sample=False, output_directory=output_dir)",
   "id": "74e081d62aa65193"
  }
 ],
 "metadata": {
  "kernelspec": {
   "display_name": "Python 3",
   "name": "python3"
  },
  "language_info": {
   "codemirror_mode": {
    "name": "ipython",
    "version": 3
   },
   "file_extension": ".py",
   "mimetype": "text/x-python",
   "name": "python",
   "nbconvert_exporter": "python",
   "pygments_lexer": "ipython3",
   "version": "3.9.19"
  },
  "colab": {
   "provenance": [],
   "gpuType": "L4"
  },
  "accelerator": "GPU"
 },
 "nbformat": 4,
 "nbformat_minor": 5
}
