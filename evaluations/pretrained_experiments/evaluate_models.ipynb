{
 "cells": [
  {
   "cell_type": "markdown",
   "id": "6c2e9d5df770a7d1",
   "metadata": {},
   "source": "# Evaluating results of pre-trained models"
  },
  {
   "metadata": {
    "ExecuteTime": {
     "end_time": "2024-06-03T12:55:38.787530Z",
     "start_time": "2024-06-03T12:55:33.311416Z"
    }
   },
   "cell_type": "code",
   "source": "!pip install evaluate sentence_transformers jiwer torchmetrics",
   "id": "20e2afb6b3b05bae",
   "execution_count": 1,
   "outputs": []
  },
  {
   "cell_type": "code",
   "id": "df4d7bb71918990",
   "metadata": {
    "ExecuteTime": {
     "end_time": "2024-06-03T12:55:55.489261Z",
     "start_time": "2024-06-03T12:55:38.791771Z"
    }
   },
   "source": [
    "from enum import Enum\n",
    "\n",
    "from evaluate import load\n",
    "from sentence_transformers import SentenceTransformer, util\n",
    "from torchmetrics.text import TranslationEditRate\n",
    "\n",
    "\n",
    "class SimilarityMetric(Enum):\n",
    "    \"\"\"Enum for string similarity metrics. Each metric must implement the evaluate method.\"\"\"\n",
    "    SACREBLEU = 0\n",
    "    TER = 1\n",
    "    SEMANTIC_SIMILARITY = 2\n",
    "\n",
    "    def evaluate(self, references: list[str], predictions: list[str]) -> float:\n",
    "        \"\"\"Evaluate the given similarity metric between two corpora.\n",
    "        Performs simple string cleaning for whitespace and punctuation.\n",
    "        :param references: list of references (official translations)\n",
    "        :param predictions: list of candidates (model translations)\n",
    "        :return: average similarity score when evaluating this specific metric on the corpora\n",
    "        \"\"\"\n",
    "        if self == SimilarityMetric.SACREBLEU:\n",
    "            # sacrebleu expects a list of references for each candidate\n",
    "            references = [[ref] for ref in references]\n",
    "            predictions = [cand for cand in predictions]\n",
    "            sacrebleu = load(\"sacrebleu\")\n",
    "            results = sacrebleu.compute(predictions=predictions, references=references)\n",
    "            return round(results[\"score\"], 1)\n",
    "        \n",
    "        elif self == SimilarityMetric.TER:\n",
    "            references = [[ref] for ref in references]\n",
    "            predictions = [cand for cand in predictions]\n",
    "            ter = TranslationEditRate()\n",
    "            inverted_score = 1 - ter(predictions, references).item()\n",
    "            return round(inverted_score * 100, 1)\n",
    "\n",
    "        else:  # semantic similarity\n",
    "            similarity_model = SentenceTransformer(\"paraphrase-multilingual-mpnet-base-v2\")\n",
    "            n = len(references)\n",
    "            score = 0\n",
    "            for reference, candidate in zip(references, predictions):\n",
    "                reference_embedding = similarity_model.encode(reference)\n",
    "                candidate_embedding = similarity_model.encode(candidate)\n",
    "                cosine_similarity = util.cos_sim(reference_embedding, candidate_embedding)\n",
    "                score += cosine_similarity[0].item()\n",
    "            # Return as percentage\n",
    "            return round(score / n * 100, 1)"
   ],
   "execution_count": 2,
   "outputs": []
  },
  {
   "metadata": {
    "ExecuteTime": {
     "end_time": "2024-06-03T12:55:55.507676Z",
     "start_time": "2024-06-03T12:55:55.495231Z"
    }
   },
   "cell_type": "code",
   "source": [
    "import pandas as pd\n",
    "import os\n",
    "import csv\n",
    "\n",
    "\n",
    "def evaluate_for_model(model_name: str):\n",
    "    folder_path = f\"translations/{model_name}/\"\n",
    "    csv_filepath = f\"metrics/{model_name}.csv\"\n",
    "    with open(csv_filepath, 'w', newline='') as csv_file:\n",
    "        field_names = ['model', 'filename', 'sacrebleu', '`ter`', 'semsim']\n",
    "        writer = csv.DictWriter(csv_file, fieldnames=field_names)\n",
    "        if csv_file.tell() == 0:\n",
    "            writer.writeheader()\n",
    "\n",
    "        for root, dirs, files in os.walk(folder_path):\n",
    "            for file_name in files:\n",
    "                file_path = os.path.join(root, file_name)\n",
    "                df = pd.read_csv(file_path)\n",
    "                print(f\"File: {file_path}\")\n",
    "\n",
    "                # file_path looks like translations/model/testset.csv\n",
    "                test_set = file_path.split('/')[-1]\n",
    "                line = {'model': model_name, 'filename': test_set}\n",
    "\n",
    "                for metric in SimilarityMetric:\n",
    "                    score = metric.evaluate(df[\"reference\"].tolist(), df[\"actual\"].tolist())\n",
    "                    print(f\"\\t{metric.name}: {score}\")\n",
    "\n",
    "                    if metric == SimilarityMetric.SACREBLEU:\n",
    "                        line['sacrebleu'] = score\n",
    "                    elif metric == SimilarityMetric.TER:\n",
    "                        line['`ter`'] = score\n",
    "                    else:\n",
    "                        line['semsim'] = score\n",
    "\n",
    "                writer.writerow(line)"
   ],
   "id": "70fab52bafd2838e",
   "execution_count": 3,
   "outputs": []
  },
  {
   "metadata": {
    "ExecuteTime": {
     "end_time": "2024-06-03T13:11:00.603094Z",
     "start_time": "2024-06-03T12:55:55.519626Z"
    }
   },
   "cell_type": "code",
   "source": "evaluate_for_model(\"helsinki-nlp\")",
   "id": "7fce0e3544e48df6",
   "execution_count": 4,
   "outputs": []
  },
  {
   "metadata": {
    "ExecuteTime": {
     "end_time": "2024-06-03T13:24:16.256415Z",
     "start_time": "2024-06-03T13:11:00.608525Z"
    }
   },
   "cell_type": "code",
   "source": "evaluate_for_model(\"madlad\")",
   "id": "f34096d07c52c810",
   "execution_count": 5,
   "outputs": []
  },
  {
   "metadata": {
    "ExecuteTime": {
     "end_time": "2024-06-03T13:39:51.426635Z",
     "start_time": "2024-06-03T13:24:16.259017Z"
    }
   },
   "cell_type": "code",
   "source": "evaluate_for_model(\"nllb-3B\")",
   "id": "c2c5ea6dd4e959e5",
   "execution_count": 6,
   "outputs": []
  },
  {
   "metadata": {
    "ExecuteTime": {
     "end_time": "2024-06-03T13:54:49.246640Z",
     "start_time": "2024-06-03T13:39:51.455256Z"
    }
   },
   "cell_type": "code",
   "source": "evaluate_for_model(\"nllb-600M\")",
   "id": "55a2e078de66d12a",
   "execution_count": 7,
   "outputs": []
  }
 ],
 "metadata": {
  "kernelspec": {
   "display_name": "Python 3 (ipykernel)",
   "language": "python",
   "name": "python3"
  },
  "language_info": {
   "codemirror_mode": {
    "name": "ipython",
    "version": 3
   },
   "file_extension": ".py",
   "mimetype": "text/x-python",
   "name": "python",
   "nbconvert_exporter": "python",
   "pygments_lexer": "ipython3",
   "version": "3.9.19"
  }
 },
 "nbformat": 4,
 "nbformat_minor": 5
}
