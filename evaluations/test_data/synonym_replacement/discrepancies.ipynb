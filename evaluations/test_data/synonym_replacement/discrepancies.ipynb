{
 "cells": [
  {
   "cell_type": "code",
   "id": "initial_id",
   "metadata": {
    "collapsed": true,
    "ExecuteTime": {
     "end_time": "2024-06-10T14:25:34.716653Z",
     "start_time": "2024-06-10T14:25:34.712144Z"
    }
   },
   "source": [
    "import pandas as pd\n",
    "\n",
    "unprocessed_filepath = \"../models/translations/finetuned-all/\"\n",
    "processed_filepath = \"translations/\"\n",
    "\n",
    "def discrepancies(filename: str):\n",
    "    unprocessed = pd.read_csv(unprocessed_filepath + filename)\n",
    "    processed = pd.read_csv(processed_filepath + filename)\n",
    "\n",
    "    mismatched = []\n",
    "    for (_, row1), (_, row2) in zip(unprocessed.iterrows(), processed.iterrows()):\n",
    "        translation1 = row1[\"actual\"]\n",
    "        translation2 = row2[\"translation\"]\n",
    "        if translation1 != translation2:\n",
    "            mismatched.append((translation1, translation2))\n",
    "\n",
    "    \n",
    "    for item in mismatched:\n",
    "        print(item)\n",
    "    n = len(mismatched)\n",
    "    percentage = round(n / processed.shape[0] * 100, 1)\n",
    "    print(f\"Found {n} ({percentage}%) discrepancies\")"
   ],
   "execution_count": 7,
   "outputs": []
  },
  {
   "metadata": {
    "ExecuteTime": {
     "end_time": "2024-06-10T14:25:34.931355Z",
     "start_time": "2024-06-10T14:25:34.717733Z"
    }
   },
   "cell_type": "code",
   "source": "discrepancies(\"clinspen-te.csv\")",
   "id": "62682e1da48a6417",
   "execution_count": 8,
   "outputs": []
  },
  {
   "metadata": {
    "ExecuteTime": {
     "end_time": "2024-06-10T14:25:36.431462Z",
     "start_time": "2024-06-10T14:25:34.932327Z"
    }
   },
   "cell_type": "code",
   "source": "discrepancies(\"hpo.csv\")",
   "id": "7e142d021eee6a00",
   "execution_count": 9,
   "outputs": []
  },
  {
   "metadata": {
    "ExecuteTime": {
     "end_time": "2024-06-10T14:25:36.481190Z",
     "start_time": "2024-06-10T14:25:36.432994Z"
    }
   },
   "cell_type": "code",
   "source": "discrepancies(\"khresmoi-te.csv\")",
   "id": "3add810051c7738f",
   "execution_count": 10,
   "outputs": []
  },
  {
   "metadata": {
    "ExecuteTime": {
     "end_time": "2024-06-10T14:25:36.560545Z",
     "start_time": "2024-06-10T14:25:36.482018Z"
    }
   },
   "cell_type": "code",
   "source": "discrepancies(\"orphanet-definitions-te.csv\")",
   "id": "21e65a7baf41f38f",
   "execution_count": 11,
   "outputs": []
  },
  {
   "metadata": {
    "ExecuteTime": {
     "end_time": "2024-06-10T14:25:36.631744Z",
     "start_time": "2024-06-10T14:25:36.561543Z"
    }
   },
   "cell_type": "code",
   "source": "discrepancies(\"pubmed-te.csv\")",
   "id": "eb6c1eda1f8e810c",
   "execution_count": 12,
   "outputs": []
  }
 ],
 "metadata": {
  "kernelspec": {
   "display_name": "Python 3",
   "language": "python",
   "name": "python3"
  },
  "language_info": {
   "codemirror_mode": {
    "name": "ipython",
    "version": 2
   },
   "file_extension": ".py",
   "mimetype": "text/x-python",
   "name": "python",
   "nbconvert_exporter": "python",
   "pygments_lexer": "ipython2",
   "version": "2.7.6"
  }
 },
 "nbformat": 4,
 "nbformat_minor": 5
}
