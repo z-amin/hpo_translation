{
 "cells": [
  {
   "cell_type": "markdown",
   "id": "6c2e9d5df770a7d1",
   "metadata": {},
   "source": "# Evaluating results of final models"
  },
  {
   "metadata": {
    "ExecuteTime": {
     "end_time": "2024-06-11T17:19:51.353262Z",
     "start_time": "2024-06-11T17:19:51.350904Z"
    }
   },
   "cell_type": "code",
   "source": "# !pip install evaluate sentence_transformers jiwer torchmetrics",
   "id": "20e2afb6b3b05bae",
   "outputs": [],
   "execution_count": 4
  },
  {
   "metadata": {
    "ExecuteTime": {
     "end_time": "2024-06-11T17:27:34.183746Z",
     "start_time": "2024-06-11T17:19:51.410192Z"
    }
   },
   "cell_type": "code",
   "source": [
    "import csv\n",
    "import os\n",
    "\n",
    "import pandas as pd\n",
    "\n",
    "from evaluations.corpus_similarity import CorpusSimilarity\n",
    "\n",
    "results_file = \"results.csv\"\n",
    "translations_filepath = \"translations/\"\n",
    "\n",
    "with open(results_file, 'w', newline='') as csv_file:\n",
    "    field_names = ['filename', 'sacrebleu', \"'ter'\", 'semsim']\n",
    "    writer = csv.DictWriter(csv_file, fieldnames=field_names)\n",
    "    if csv_file.tell() == 0:\n",
    "        writer.writeheader()\n",
    "\n",
    "    for root, dirs, files in os.walk(translations_filepath):\n",
    "        for file_name in files:\n",
    "            file_path = os.path.join(root, file_name)\n",
    "            df = pd.read_csv(file_path)\n",
    "            print(f\"File: {file_path}\")\n",
    "\n",
    "            test_set = file_path.split('/')[-1]\n",
    "            line = {'filename': test_set}\n",
    "\n",
    "            for metric in CorpusSimilarity:\n",
    "                score = metric.evaluate(df[\"reference\"].tolist(), df[\"translation\"].tolist())\n",
    "                print(f\"\\t{metric}: {score}\")\n",
    "\n",
    "                if metric == CorpusSimilarity.SACREBLEU:\n",
    "                    line['sacrebleu'] = score\n",
    "                elif metric == CorpusSimilarity.TER:\n",
    "                    line[\"'ter'\"] = score\n",
    "                else:\n",
    "                    line['semsim'] = score\n",
    "\n",
    "            writer.writerow(line)"
   ],
   "id": "70fab52bafd2838e",
   "outputs": [
    {
     "name": "stdout",
     "output_type": "stream",
     "text": [
      "File: translations/clinspen.csv\n",
      "\tSACREBLEU: 49.7\n",
      "\tTER: 60.4\n",
      "\tSEMANTIC_SIMILARITY: 93.1\n",
      "File: translations/pubmed-te.csv\n",
      "\tSACREBLEU: 45.2\n",
      "\tTER: 54.8\n",
      "\tSEMANTIC_SIMILARITY: 92.2\n",
      "File: translations/hpo.csv\n",
      "\tSACREBLEU: 47.3\n",
      "\tTER: 62.9\n",
      "\tSEMANTIC_SIMILARITY: 92.0\n",
      "File: translations/orphanet-definitions-te.csv\n",
      "\tSACREBLEU: 61.0\n",
      "\tTER: 69.0\n",
      "\tSEMANTIC_SIMILARITY: 95.7\n",
      "File: translations/khresmoi-te.csv\n",
      "\tSACREBLEU: 47.1\n",
      "\tTER: 61.7\n",
      "\tSEMANTIC_SIMILARITY: 94.7\n"
     ]
    }
   ],
   "execution_count": 6
  }
 ],
 "metadata": {
  "kernelspec": {
   "display_name": "Python 3 (ipykernel)",
   "language": "python",
   "name": "python3"
  },
  "language_info": {
   "codemirror_mode": {
    "name": "ipython",
    "version": 3
   },
   "file_extension": ".py",
   "mimetype": "text/x-python",
   "name": "python",
   "nbconvert_exporter": "python",
   "pygments_lexer": "ipython3",
   "version": "3.9.19"
  }
 },
 "nbformat": 4,
 "nbformat_minor": 5
}
