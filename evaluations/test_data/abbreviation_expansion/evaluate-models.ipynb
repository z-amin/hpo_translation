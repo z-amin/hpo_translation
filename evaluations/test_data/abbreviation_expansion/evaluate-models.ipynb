{
 "cells": [
  {
   "cell_type": "markdown",
   "id": "6c2e9d5df770a7d1",
   "metadata": {},
   "source": "# Evaluating results of final models"
  },
  {
   "metadata": {
    "ExecuteTime": {
     "end_time": "2024-06-07T14:58:59.471992Z",
     "start_time": "2024-06-07T14:58:59.469266Z"
    }
   },
   "cell_type": "code",
   "source": "# !pip install evaluate sentence_transformers jiwer torchmetrics",
   "id": "20e2afb6b3b05bae",
   "outputs": [],
   "execution_count": 12
  },
  {
   "cell_type": "code",
   "id": "df4d7bb71918990",
   "metadata": {
    "ExecuteTime": {
     "end_time": "2024-06-07T14:58:59.491170Z",
     "start_time": "2024-06-07T14:58:59.484578Z"
    }
   },
   "source": [
    "from enum import Enum\n",
    "\n",
    "from evaluate import load\n",
    "from sentence_transformers import SentenceTransformer, util\n",
    "from torchmetrics.text import TranslationEditRate\n",
    "\n",
    "\n",
    "class SimilarityMetric(Enum):\n",
    "    \"\"\"Enum for string similarity metrics. Each metric must implement the evaluate method.\"\"\"\n",
    "    SACREBLEU = 0\n",
    "    TER = 1\n",
    "    SEMANTIC_SIMILARITY = 2\n",
    "\n",
    "    def evaluate(self, references: list[str], predictions: list[str]) -> float:\n",
    "        \"\"\"Evaluate the given similarity metric between two corpora.\n",
    "        Performs simple string cleaning for whitespace and punctuation.\n",
    "        :param references: list of references (official translations)\n",
    "        :param predictions: list of candidates (model translations)\n",
    "        :return: average similarity score when evaluating this specific metric on the corpora\n",
    "        \"\"\"\n",
    "        if self == SimilarityMetric.SACREBLEU:\n",
    "            # sacrebleu expects a list of references for each candidate\n",
    "            references = [[ref] for ref in references]\n",
    "            predictions = [cand for cand in predictions]\n",
    "            sacrebleu = load(\"sacrebleu\")\n",
    "            results = sacrebleu.compute(predictions=predictions, references=references)\n",
    "            return round(results[\"score\"], 1)\n",
    "\n",
    "        elif self == SimilarityMetric.TER:\n",
    "            references = [[ref] for ref in references]\n",
    "            predictions = [cand for cand in predictions]\n",
    "            ter = TranslationEditRate()\n",
    "            inverted_score = 1 - ter(predictions, references).item()\n",
    "            return round(inverted_score * 100, 1)\n",
    "\n",
    "        else:  # semantic similarity\n",
    "            similarity_model = SentenceTransformer(\"paraphrase-multilingual-mpnet-base-v2\")\n",
    "            n = len(references)\n",
    "            score = 0\n",
    "            for reference, candidate in zip(references, predictions):\n",
    "                reference_embedding = similarity_model.encode(reference)\n",
    "                candidate_embedding = similarity_model.encode(candidate)\n",
    "                cosine_similarity = util.cos_sim(reference_embedding, candidate_embedding)\n",
    "                score += cosine_similarity[0].item()\n",
    "            # Return as percentage\n",
    "            return round(score / n * 100, 1)"
   ],
   "outputs": [],
   "execution_count": 13
  },
  {
   "metadata": {
    "ExecuteTime": {
     "end_time": "2024-06-07T14:58:59.507293Z",
     "start_time": "2024-06-07T14:58:59.501158Z"
    }
   },
   "cell_type": "code",
   "source": [
    "import pandas as pd\n",
    "import os\n",
    "\n",
    "translations_filepath = \"translations/\"\n",
    "for root, dirs, files in os.walk(translations_filepath):\n",
    "    for file_name in files:\n",
    "        file_path = os.path.join(root, file_name)\n",
    "        df = pd.read_csv(file_path)\n",
    "        print(f\"File: {file_path}\")\n",
    "        for metric in SimilarityMetric:\n",
    "            score = metric.evaluate(df[\"reference\"].tolist(), df[\"translation\"].tolist())\n",
    "            print(f\"\\t{metric.name}: {score}\")"
   ],
   "id": "70fab52bafd2838e",
   "outputs": [],
   "execution_count": 14
  }
 ],
 "metadata": {
  "kernelspec": {
   "display_name": "Python 3 (ipykernel)",
   "language": "python",
   "name": "python3"
  },
  "language_info": {
   "codemirror_mode": {
    "name": "ipython",
    "version": 3
   },
   "file_extension": ".py",
   "mimetype": "text/x-python",
   "name": "python",
   "nbconvert_exporter": "python",
   "pygments_lexer": "ipython3",
   "version": "3.9.19"
  }
 },
 "nbformat": 4,
 "nbformat_minor": 5
}
