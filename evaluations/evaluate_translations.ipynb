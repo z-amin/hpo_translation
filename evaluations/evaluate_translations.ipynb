{
 "cells": [
  {
   "cell_type": "markdown",
   "id": "6c2e9d5df770a7d1",
   "metadata": {},
   "source": "# Evaluating results of final models"
  },
  {
   "metadata": {
    "ExecuteTime": {
     "end_time": "2024-06-07T14:58:59.471992Z",
     "start_time": "2024-06-07T14:58:59.469266Z"
    }
   },
   "cell_type": "code",
   "source": "# !pip install evaluate sentence_transformers jiwer torchmetrics",
   "id": "20e2afb6b3b05bae",
   "execution_count": 12,
   "outputs": []
  },
  {
   "metadata": {
    "ExecuteTime": {
     "end_time": "2024-06-07T14:58:59.507293Z",
     "start_time": "2024-06-07T14:58:59.501158Z"
    }
   },
   "cell_type": "code",
   "source": [
    "from evaluations.corpus_similarity import CorpusSimilarity\n",
    "import pandas as pd\n",
    "import os\n",
    "import csv\n",
    "\n",
    "\n",
    "def evaluate_for_model(folder_path: str, model_name: str):\n",
    "    translations_path = f\"{folder_path}/translations/\"\n",
    "    output_csv = f\"{folder_path}/metrics/{model_name}.csv\"\n",
    "\n",
    "    with open(output_csv, 'w', newline='') as csv_file:\n",
    "        field_names = ['model', 'filename', 'sacrebleu', \"'ter'\", 'semsim']\n",
    "        writer = csv.DictWriter(csv_file, fieldnames=field_names)\n",
    "        if csv_file.tell() == 0:\n",
    "            writer.writeheader()\n",
    "\n",
    "        for root, dirs, files in os.walk(translations_path):\n",
    "            for file_name in files:\n",
    "                file_path = os.path.join(root, file_name)\n",
    "                df = pd.read_csv(file_path)\n",
    "                print(f\"File: {file_path}\")\n",
    "\n",
    "                # file_path looks like translations/model/dataset.csv\n",
    "                dataset = file_path.split('/')[-1]\n",
    "                line = {'model': model_name, 'filename': dataset}\n",
    "\n",
    "                for metric in CorpusSimilarity:\n",
    "                    score = metric.evaluate(df[\"reference\"].tolist(), df[\"actual\"].tolist())\n",
    "                    print(f\"\\t{metric.name}: {score}\")\n",
    "\n",
    "                    match metric:\n",
    "                        case CorpusSimilarity.SACREBLEU:\n",
    "                            line['sacrebleu'] = score\n",
    "                        case CorpusSimilarity.TER:\n",
    "                            line[\"'ter'\"] = score\n",
    "                        case CorpusSimilarity.SEMANTIC_SIMILARITY:\n",
    "                            line['semsim'] = score\n",
    "\n",
    "                writer.writerow(line)"
   ],
   "id": "70fab52bafd2838e",
   "execution_count": 14,
   "outputs": []
  },
  {
   "metadata": {},
   "cell_type": "markdown",
   "source": "## Pre-trained experiments",
   "id": "9bb8dfe999c432d6"
  },
  {
   "metadata": {},
   "cell_type": "code",
   "outputs": [],
   "execution_count": null,
   "source": "folder = \"pretrained_experiments\"",
   "id": "4744baf7d9189d6f"
  },
  {
   "metadata": {},
   "cell_type": "code",
   "outputs": [],
   "execution_count": null,
   "source": "evaluate_for_model(folder, \"helsinki-nlp\")",
   "id": "4f150bfe03ada72b"
  },
  {
   "metadata": {},
   "cell_type": "code",
   "outputs": [],
   "execution_count": null,
   "source": "evaluate_for_model(folder, \"madlad\")",
   "id": "586fe74b89519f5d"
  },
  {
   "metadata": {},
   "cell_type": "code",
   "outputs": [],
   "execution_count": null,
   "source": "evaluate_for_model(folder, \"nllb-3B\")",
   "id": "28f4dcf1e5a7973f"
  },
  {
   "metadata": {},
   "cell_type": "code",
   "outputs": [],
   "execution_count": null,
   "source": "evaluate_for_model(folder, \"nllb-600M\")",
   "id": "33be10c504088c26"
  },
  {
   "metadata": {},
   "cell_type": "markdown",
   "source": "## Test experiments",
   "id": "2f2e39dba26ea077"
  },
  {
   "metadata": {},
   "cell_type": "markdown",
   "source": "#### No processing",
   "id": "7cc9a5c0e67c9099"
  },
  {
   "metadata": {
    "ExecuteTime": {
     "end_time": "2024-06-07T15:07:34.927788Z",
     "start_time": "2024-06-07T14:58:59.508594Z"
    }
   },
   "cell_type": "code",
   "source": "folder = \"test_data/models\"",
   "id": "f6d4c7821b97a07d",
   "execution_count": 15,
   "outputs": []
  },
  {
   "metadata": {
    "ExecuteTime": {
     "end_time": "2024-06-07T15:07:34.931070Z",
     "start_time": "2024-06-07T15:07:34.928976Z"
    }
   },
   "cell_type": "code",
   "source": "evaluate_for_model(folder, \"finetuned-all\")",
   "id": "e4a1b9b9a41eb932",
   "execution_count": 16,
   "outputs": []
  },
  {
   "metadata": {},
   "cell_type": "code",
   "outputs": [],
   "execution_count": null,
   "source": "evaluate_for_model(folder, \"finetuned-cl\")",
   "id": "8bb380003cf45f26"
  },
  {
   "metadata": {
    "ExecuteTime": {
     "end_time": "2024-06-07T15:07:34.935579Z",
     "start_time": "2024-06-07T15:07:34.932248Z"
    }
   },
   "cell_type": "code",
   "source": "evaluate_for_model(folder, \"helsinki-nlp\")",
   "id": "580001ea3363ee3e",
   "execution_count": 17,
   "outputs": []
  },
  {
   "metadata": {
    "ExecuteTime": {
     "end_time": "2024-06-07T15:07:34.939935Z",
     "start_time": "2024-06-07T15:07:34.937305Z"
    }
   },
   "cell_type": "code",
   "source": "evaluate_for_model(folder, \"madlad\")",
   "id": "a6448170ea848b55",
   "execution_count": 18,
   "outputs": []
  },
  {
   "metadata": {
    "ExecuteTime": {
     "end_time": "2024-06-07T15:07:34.944278Z",
     "start_time": "2024-06-07T15:07:34.940860Z"
    }
   },
   "cell_type": "code",
   "source": "evaluate_for_model(folder, \"nllb-3B\")",
   "id": "3320bf3907e77af4",
   "execution_count": 19,
   "outputs": []
  },
  {
   "metadata": {},
   "cell_type": "markdown",
   "source": "### Processing techniques",
   "id": "567268d5d873d90d"
  },
  {
   "metadata": {},
   "cell_type": "code",
   "outputs": [],
   "execution_count": null,
   "source": [
    "def evaluate(folder_path: str):\n",
    "    translations_path = f\"{folder_path}/translations/\"\n",
    "    output_csv = f\"{folder_path}/metrics.csv\"\n",
    "\n",
    "    with open(output_csv, 'w', newline='') as csv_file:\n",
    "        field_names = ['model', 'filename', 'sacrebleu', \"'ter'\", 'semsim']\n",
    "        writer = csv.DictWriter(csv_file, fieldnames=field_names)\n",
    "        if csv_file.tell() == 0:\n",
    "            writer.writeheader()\n",
    "\n",
    "        for root, dirs, files in os.walk(translations_path):\n",
    "            for file_name in files:\n",
    "                file_path = os.path.join(root, file_name)\n",
    "                df = pd.read_csv(file_path)\n",
    "                print(f\"File: {file_path}\")\n",
    "\n",
    "                # file_path looks like translations/dataset.csv\n",
    "                dataset = file_path.split('/')[-1]\n",
    "                line = {'filename': dataset}\n",
    "\n",
    "                for metric in CorpusSimilarity:\n",
    "                    score = metric.evaluate(df[\"reference\"].tolist(), df[\"actual\"].tolist())\n",
    "                    print(f\"\\t{metric.name}: {score}\")\n",
    "\n",
    "                    match metric:\n",
    "                        case CorpusSimilarity.SACREBLEU:\n",
    "                            line['sacrebleu'] = score\n",
    "                        case CorpusSimilarity.TER:\n",
    "                            line[\"'ter'\"] = score\n",
    "                        case CorpusSimilarity.SEMANTIC_SIMILARITY:\n",
    "                            line['semsim'] = score\n",
    "\n",
    "                writer.writerow(line)"
   ],
   "id": "64aac802017a2671"
  },
  {
   "metadata": {},
   "cell_type": "markdown",
   "source": "#### Abbreviation expansion",
   "id": "8d0587c20bb2abe0"
  },
  {
   "metadata": {},
   "cell_type": "code",
   "outputs": [],
   "execution_count": null,
   "source": "",
   "id": "3b90a6370b866dd3"
  },
  {
   "metadata": {},
   "cell_type": "markdown",
   "source": "#### Synonym replacement",
   "id": "197569c1525054b0"
  },
  {
   "metadata": {},
   "cell_type": "code",
   "outputs": [],
   "execution_count": null,
   "source": "",
   "id": "7c9d4015d41c0d84"
  }
 ],
 "metadata": {
  "kernelspec": {
   "display_name": "Python 3 (ipykernel)",
   "language": "python",
   "name": "python3"
  },
  "language_info": {
   "codemirror_mode": {
    "name": "ipython",
    "version": 3
   },
   "file_extension": ".py",
   "mimetype": "text/x-python",
   "name": "python",
   "nbconvert_exporter": "python",
   "pygments_lexer": "ipython3",
   "version": "3.9.19"
  }
 },
 "nbformat": 4,
 "nbformat_minor": 5
}
