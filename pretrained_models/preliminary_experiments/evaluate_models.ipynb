{
 "cells": [
  {
   "cell_type": "markdown",
   "id": "6c2e9d5df770a7d1",
   "metadata": {},
   "source": "# Evaluating results of pre-trained models"
  },
  {
   "metadata": {
    "ExecuteTime": {
     "end_time": "2024-04-30T17:54:10.344935Z",
     "start_time": "2024-04-30T17:54:04.277077Z"
    }
   },
   "cell_type": "code",
   "source": "!pip install evaluate sentence_transformers jiwer",
   "id": "20e2afb6b3b05bae",
   "outputs": [
    {
     "name": "stdout",
     "output_type": "stream",
     "text": [
      "\u001B[33mDEPRECATION: Configuring installation scheme with distutils config files is deprecated and will no longer work in the near future. If you are using a Homebrew or Linuxbrew Python, please see discussion at https://github.com/Homebrew/homebrew-core/issues/76621\u001B[0m\u001B[33m\r\n",
      "\u001B[0mRequirement already satisfied: evaluate in /usr/local/lib/python3.9/site-packages (0.4.1)\r\n",
      "Requirement already satisfied: sentence_transformers in /usr/local/lib/python3.9/site-packages (2.6.1)\r\n",
      "Requirement already satisfied: jiwer in /usr/local/lib/python3.9/site-packages (3.0.3)\r\n",
      "Requirement already satisfied: datasets>=2.0.0 in /usr/local/lib/python3.9/site-packages (from evaluate) (2.19.0)\r\n",
      "Requirement already satisfied: numpy>=1.17 in /usr/local/lib/python3.9/site-packages (from evaluate) (1.26.0)\r\n",
      "Requirement already satisfied: dill in /usr/local/lib/python3.9/site-packages (from evaluate) (0.3.8)\r\n",
      "Requirement already satisfied: pandas in /usr/local/lib/python3.9/site-packages (from evaluate) (2.1.1)\r\n",
      "Requirement already satisfied: requests>=2.19.0 in /usr/local/lib/python3.9/site-packages (from evaluate) (2.31.0)\r\n",
      "Requirement already satisfied: tqdm>=4.62.1 in /usr/local/lib/python3.9/site-packages (from evaluate) (4.66.1)\r\n",
      "Requirement already satisfied: xxhash in /usr/local/lib/python3.9/site-packages (from evaluate) (3.4.1)\r\n",
      "Requirement already satisfied: multiprocess in /usr/local/lib/python3.9/site-packages (from evaluate) (0.70.16)\r\n",
      "Requirement already satisfied: fsspec>=2021.05.0 in /usr/local/lib/python3.9/site-packages (from fsspec[http]>=2021.05.0->evaluate) (2023.9.2)\r\n",
      "Requirement already satisfied: huggingface-hub>=0.7.0 in /usr/local/lib/python3.9/site-packages (from evaluate) (0.22.2)\r\n",
      "Requirement already satisfied: packaging in /usr/local/lib/python3.9/site-packages (from evaluate) (23.2)\r\n",
      "Requirement already satisfied: responses<0.19 in /usr/local/lib/python3.9/site-packages (from evaluate) (0.18.0)\r\n",
      "Requirement already satisfied: transformers<5.0.0,>=4.32.0 in /usr/local/lib/python3.9/site-packages (from sentence_transformers) (4.39.3)\r\n",
      "Requirement already satisfied: torch>=1.11.0 in /usr/local/lib/python3.9/site-packages (from sentence_transformers) (2.1.0)\r\n",
      "Requirement already satisfied: scikit-learn in /usr/local/lib/python3.9/site-packages (from sentence_transformers) (1.1.3)\r\n",
      "Requirement already satisfied: scipy in /usr/local/lib/python3.9/site-packages (from sentence_transformers) (1.11.3)\r\n",
      "Requirement already satisfied: Pillow in /usr/local/lib/python3.9/site-packages (from sentence_transformers) (10.0.1)\r\n",
      "Requirement already satisfied: click<9.0.0,>=8.1.3 in /usr/local/lib/python3.9/site-packages (from jiwer) (8.1.7)\r\n",
      "Requirement already satisfied: rapidfuzz<4,>=3 in /usr/local/lib/python3.9/site-packages (from jiwer) (3.8.1)\r\n",
      "Requirement already satisfied: filelock in /usr/local/lib/python3.9/site-packages (from datasets>=2.0.0->evaluate) (3.12.4)\r\n",
      "Requirement already satisfied: pyarrow>=12.0.0 in /usr/local/lib/python3.9/site-packages (from datasets>=2.0.0->evaluate) (16.0.0)\r\n",
      "Requirement already satisfied: pyarrow-hotfix in /usr/local/lib/python3.9/site-packages (from datasets>=2.0.0->evaluate) (0.6)\r\n",
      "Requirement already satisfied: aiohttp in /usr/local/lib/python3.9/site-packages (from datasets>=2.0.0->evaluate) (3.9.5)\r\n",
      "Requirement already satisfied: pyyaml>=5.1 in /usr/local/lib/python3.9/site-packages (from datasets>=2.0.0->evaluate) (6.0.1)\r\n",
      "Requirement already satisfied: typing-extensions>=3.7.4.3 in /usr/local/lib/python3.9/site-packages (from huggingface-hub>=0.7.0->evaluate) (4.8.0)\r\n",
      "Requirement already satisfied: charset-normalizer<4,>=2 in /usr/local/lib/python3.9/site-packages (from requests>=2.19.0->evaluate) (3.3.0)\r\n",
      "Requirement already satisfied: idna<4,>=2.5 in /usr/local/lib/python3.9/site-packages (from requests>=2.19.0->evaluate) (3.4)\r\n",
      "Requirement already satisfied: urllib3<3,>=1.21.1 in /usr/local/lib/python3.9/site-packages (from requests>=2.19.0->evaluate) (2.0.6)\r\n",
      "Requirement already satisfied: certifi>=2017.4.17 in /usr/local/lib/python3.9/site-packages (from requests>=2.19.0->evaluate) (2023.7.22)\r\n",
      "Requirement already satisfied: sympy in /usr/local/lib/python3.9/site-packages (from torch>=1.11.0->sentence_transformers) (1.12)\r\n",
      "Requirement already satisfied: networkx in /usr/local/lib/python3.9/site-packages (from torch>=1.11.0->sentence_transformers) (3.1)\r\n",
      "Requirement already satisfied: jinja2 in /usr/local/lib/python3.9/site-packages (from torch>=1.11.0->sentence_transformers) (3.1.2)\r\n",
      "Requirement already satisfied: regex!=2019.12.17 in /usr/local/lib/python3.9/site-packages (from transformers<5.0.0,>=4.32.0->sentence_transformers) (2023.12.25)\r\n",
      "Requirement already satisfied: tokenizers<0.19,>=0.14 in /usr/local/lib/python3.9/site-packages (from transformers<5.0.0,>=4.32.0->sentence_transformers) (0.15.2)\r\n",
      "Requirement already satisfied: safetensors>=0.4.1 in /usr/local/lib/python3.9/site-packages (from transformers<5.0.0,>=4.32.0->sentence_transformers) (0.4.2)\r\n",
      "Requirement already satisfied: python-dateutil>=2.8.2 in /usr/local/lib/python3.9/site-packages (from pandas->evaluate) (2.8.2)\r\n",
      "Requirement already satisfied: pytz>=2020.1 in /usr/local/lib/python3.9/site-packages (from pandas->evaluate) (2023.3.post1)\r\n",
      "Requirement already satisfied: tzdata>=2022.1 in /usr/local/lib/python3.9/site-packages (from pandas->evaluate) (2023.3)\r\n",
      "Requirement already satisfied: joblib>=1.0.0 in /usr/local/lib/python3.9/site-packages (from scikit-learn->sentence_transformers) (1.3.2)\r\n",
      "Requirement already satisfied: threadpoolctl>=2.0.0 in /usr/local/lib/python3.9/site-packages (from scikit-learn->sentence_transformers) (3.2.0)\r\n",
      "Requirement already satisfied: aiosignal>=1.1.2 in /usr/local/lib/python3.9/site-packages (from aiohttp->datasets>=2.0.0->evaluate) (1.3.1)\r\n",
      "Requirement already satisfied: attrs>=17.3.0 in /usr/local/lib/python3.9/site-packages (from aiohttp->datasets>=2.0.0->evaluate) (23.1.0)\r\n",
      "Requirement already satisfied: frozenlist>=1.1.1 in /usr/local/lib/python3.9/site-packages (from aiohttp->datasets>=2.0.0->evaluate) (1.4.1)\r\n",
      "Requirement already satisfied: multidict<7.0,>=4.5 in /usr/local/lib/python3.9/site-packages (from aiohttp->datasets>=2.0.0->evaluate) (6.0.5)\r\n",
      "Requirement already satisfied: yarl<2.0,>=1.0 in /usr/local/lib/python3.9/site-packages (from aiohttp->datasets>=2.0.0->evaluate) (1.9.4)\r\n",
      "Requirement already satisfied: async-timeout<5.0,>=4.0 in /usr/local/lib/python3.9/site-packages (from aiohttp->datasets>=2.0.0->evaluate) (4.0.3)\r\n",
      "Requirement already satisfied: six>=1.5 in /usr/local/lib/python3.9/site-packages (from python-dateutil>=2.8.2->pandas->evaluate) (1.16.0)\r\n",
      "Requirement already satisfied: MarkupSafe>=2.0 in /usr/local/lib/python3.9/site-packages (from jinja2->torch>=1.11.0->sentence_transformers) (2.1.3)\r\n",
      "Requirement already satisfied: mpmath>=0.19 in /usr/local/lib/python3.9/site-packages (from sympy->torch>=1.11.0->sentence_transformers) (1.3.0)\r\n",
      "\u001B[33mDEPRECATION: Configuring installation scheme with distutils config files is deprecated and will no longer work in the near future. If you are using a Homebrew or Linuxbrew Python, please see discussion at https://github.com/Homebrew/homebrew-core/issues/76621\u001B[0m\u001B[33m\r\n",
      "\u001B[0m"
     ]
    }
   ],
   "execution_count": 1
  },
  {
   "cell_type": "code",
   "id": "df4d7bb71918990",
   "metadata": {
    "ExecuteTime": {
     "end_time": "2024-04-30T17:54:23.845664Z",
     "start_time": "2024-04-30T17:54:10.349258Z"
    }
   },
   "source": [
    "from enum import Enum\n",
    "\n",
    "from evaluate import load\n",
    "from sentence_transformers import SentenceTransformer, util\n",
    "\n",
    "\n",
    "class SimilarityMetric(Enum):\n",
    "    \"\"\"Enum for string similarity metrics. Each metric must implement the evaluate method.\"\"\"\n",
    "    SACREBLEU = 0\n",
    "    WER = 1\n",
    "    SEMANTIC_SIMILARITY = 2\n",
    "\n",
    "    def evaluate(self, references: list[str], predictions: list[str]) -> float:\n",
    "        \"\"\"Evaluate the given similarity metric between two corpora.\n",
    "        Performs simple string cleaning for whitespace and punctuation.\n",
    "        :param references: list of references (official translations)\n",
    "        :param predictions: list of candidates (model translations)\n",
    "        :return: average similarity score when evaluating this specific metric on the corpora\n",
    "        \"\"\"\n",
    "        if self == SimilarityMetric.SACREBLEU:\n",
    "            # sacrebleu expects a list of references for each candidate\n",
    "            references = [[ref] for ref in references]\n",
    "            predictions = [cand for cand in predictions]\n",
    "            sacrebleu = load(\"sacrebleu\")\n",
    "            results = sacrebleu.compute(predictions=predictions, references=references)\n",
    "            return round(results[\"score\"], 1)\n",
    "\n",
    "        elif self == SimilarityMetric.WER:\n",
    "            wer = load(\"wer\")\n",
    "            # Normally 0 is the best WER so we invert such that 1 is the best to match other metrics\n",
    "            wer_score = 1 - wer.compute(predictions=predictions, references=references)\n",
    "            return round(wer_score * 100, 1)\n",
    "\n",
    "        else:  # semantic similarity\n",
    "            similarity_model = SentenceTransformer(\"paraphrase-multilingual-mpnet-base-v2\")\n",
    "            n = len(references)\n",
    "            score = 0\n",
    "            for reference, candidate in zip(references, predictions):\n",
    "                reference_embedding = similarity_model.encode(reference)\n",
    "                candidate_embedding = similarity_model.encode(candidate)\n",
    "                cosine_similarity = util.cos_sim(reference_embedding, candidate_embedding)\n",
    "                score += cosine_similarity[0].item()\n",
    "            # Return as percentage\n",
    "            return round(score / n * 100, 1)"
   ],
   "outputs": [],
   "execution_count": 2
  },
  {
   "metadata": {
    "ExecuteTime": {
     "end_time": "2024-04-30T17:55:18.760282Z",
     "start_time": "2024-04-30T17:54:23.848324Z"
    }
   },
   "cell_type": "code",
   "source": [
    "import pandas as pd\n",
    "import os\n",
    "import csv\n",
    "\n",
    "folder_path = os.getcwd() + \"/results\"\n",
    "csv_filepath = 'metrics.csv'\n",
    "\n",
    "with open(csv_filepath, 'w', newline='') as csv_file:\n",
    "    field_names = ['model', 'filename', 'sacrebleu', 'wer', 'semsim']\n",
    "    writer = csv.DictWriter(csv_file, fieldnames=field_names)\n",
    "    if csv_file.tell() == 0:\n",
    "        writer.writeheader()\n",
    "\n",
    "    for root, dirs, files in os.walk(folder_path):\n",
    "        for file_name in files:\n",
    "            file_path = os.path.join(root, file_name)\n",
    "            df = pd.read_csv(file_path)\n",
    "            print(f\"File: {file_path}\")\n",
    "\n",
    "            # file_path looks like blah/model/testset.csv\n",
    "            path_segments = file_path.split('/')\n",
    "            test_set = path_segments[-1]\n",
    "            model = path_segments[-2]\n",
    "            line = {'model': model, 'filename': test_set}\n",
    "\n",
    "            for metric in SimilarityMetric:\n",
    "                score = metric.evaluate(df[\"reference\"].tolist(), df[\"actual\"].tolist())\n",
    "                print(f\"\\t{metric.name}: {score}\")\n",
    "\n",
    "                if metric == SimilarityMetric.SACREBLEU:\n",
    "                    line['sacrebleu'] = score\n",
    "                elif metric == SimilarityMetric.SEMANTIC_SIMILARITY:\n",
    "                    line['semsim'] = score\n",
    "                else:\n",
    "                    line['wer'] = score\n",
    "\n",
    "            writer.writerow(line)"
   ],
   "id": "70fab52bafd2838e",
   "outputs": [
    {
     "name": "stdout",
     "output_type": "stream",
     "text": [
      "File: /Users/zaki/PycharmProjects/hpo_translation/pretrained_models/preliminary_experiments/results/helsinki-nlp/abstracts.csv\n",
      "\tSACREBLEU: 47.7\n",
      "\tWER: 59.6\n",
      "\tSEMANTIC_SIMILARITY: 96.4\n",
      "File: /Users/zaki/PycharmProjects/hpo_translation/pretrained_models/preliminary_experiments/results/helsinki-nlp/scielo.csv\n",
      "\tSACREBLEU: 48.7\n",
      "\tWER: 58.9\n",
      "\tSEMANTIC_SIMILARITY: 89.8\n",
      "File: /Users/zaki/PycharmProjects/hpo_translation/pretrained_models/preliminary_experiments/results/helsinki-nlp/snomed.csv\n",
      "\tSACREBLEU: 33.2\n",
      "\tWER: 21.1\n",
      "\tSEMANTIC_SIMILARITY: 76.5\n",
      "File: /Users/zaki/PycharmProjects/hpo_translation/pretrained_models/preliminary_experiments/results/helsinki-nlp/khresmoi.csv\n",
      "\tSACREBLEU: 58.2\n",
      "\tWER: 76.1\n",
      "\tSEMANTIC_SIMILARITY: 97.4\n",
      "File: /Users/zaki/PycharmProjects/hpo_translation/pretrained_models/preliminary_experiments/results/helsinki-nlp/medline.csv\n",
      "\tSACREBLEU: 69.4\n",
      "\tWER: 81.0\n",
      "\tSEMANTIC_SIMILARITY: 97.9\n"
     ]
    }
   ],
   "execution_count": 3
  }
 ],
 "metadata": {
  "kernelspec": {
   "display_name": "Python 3 (ipykernel)",
   "language": "python",
   "name": "python3"
  },
  "language_info": {
   "codemirror_mode": {
    "name": "ipython",
    "version": 3
   },
   "file_extension": ".py",
   "mimetype": "text/x-python",
   "name": "python",
   "nbconvert_exporter": "python",
   "pygments_lexer": "ipython3",
   "version": "3.9.19"
  }
 },
 "nbformat": 4,
 "nbformat_minor": 5
}
