{
 "cells": [
  {
   "cell_type": "markdown",
   "id": "6c2e9d5df770a7d1",
   "metadata": {},
   "source": [
    "# Running pre-trained models on biomedical texts to evaluate them\n",
    "## Infrastructure"
   ]
  },
  {
   "cell_type": "code",
   "id": "df4d7bb71918990",
   "metadata": {
    "jupyter": {
     "is_executing": true
    },
    "ExecuteTime": {
     "start_time": "2024-04-28T16:09:22.905809Z"
    }
   },
   "source": [
    "!pip install evaluate\n",
    "!pip install nltk\n",
    "!pip install sentence_transformers\n",
    "\n",
    "from enum import Enum\n",
    "\n",
    "import evaluate\n",
    "import nltk\n",
    "from sentence_transformers import SentenceTransformer, util\n",
    "\n",
    "\n",
    "class SimilarityMetric(Enum):\n",
    "    \"\"\"Enum for string similarity metrics. Each metric must implement the evaluate method.\"\"\"\n",
    "    SACREBLEU = 0\n",
    "    SEMANTIC_SIMILARITY = 1\n",
    "    EDIT_DISTANCE = 2\n",
    "\n",
    "    def evaluate(self, references: list[str], candidates: list[str]) -> float:\n",
    "        \"\"\"Evaluate the given  similarity metric between two corpora.\n",
    "        Performs simple string cleaning for whitespace and punctuation.\n",
    "        :param references: list of references (official translations)\n",
    "        :param candidates: list of candidates (model translations\n",
    "        :return: average similarity score when evaluating this specific metric on the corpora\n",
    "        \"\"\"\n",
    "        if self == SimilarityMetric.SACREBLEU:\n",
    "            # sacrebleu expects a list of references for each candidate\n",
    "            references = [[ref] for ref in references]\n",
    "            predictions = [cand for cand in candidates]\n",
    "            sacrebleu = evaluate.load(\"sacrebleu\")\n",
    "            results = sacrebleu.compute(predictions=predictions, references=references)\n",
    "            return round(results[\"score\"], 1)\n",
    "\n",
    "        elif self == SimilarityMetric.EDIT_DISTANCE:\n",
    "            n = len(references)\n",
    "            score = 0\n",
    "            for reference, candidate in zip(references, candidates):\n",
    "                score += (1 - nltk.edit_distance(reference, candidate) / max(len(reference), len(candidate)))\n",
    "            return round(score / n, 3)\n",
    "\n",
    "        else:  # semantic similarity\n",
    "            similarity_model = SentenceTransformer(\"paraphrase-multilingual-mpnet-base-v2\")\n",
    "            n = len(references)\n",
    "            score = 0\n",
    "            for reference, candidate in zip(references, candidates):\n",
    "                query_embedding = similarity_model.encode(reference)\n",
    "                passage_embedding = similarity_model.encode(candidate)\n",
    "                cosine_similarity = util.cos_sim(query_embedding, passage_embedding)\n",
    "                score += cosine_similarity[0].item()\n",
    "            return round(score / n, 3)"
   ],
   "outputs": [
    {
     "name": "stderr",
     "output_type": "stream",
     "text": [
      "huggingface/tokenizers: The current process just got forked, after parallelism has already been used. Disabling parallelism to avoid deadlocks...\n",
      "To disable this warning, you can either:\n",
      "\t- Avoid using `tokenizers` before the fork if possible\n",
      "\t- Explicitly set the environment variable TOKENIZERS_PARALLELISM=(true | false)\n"
     ]
    },
    {
     "name": "stdout",
     "output_type": "stream",
     "text": [
      "\u001B[33mDEPRECATION: Configuring installation scheme with distutils config files is deprecated and will no longer work in the near future. If you are using a Homebrew or Linuxbrew Python, please see discussion at https://github.com/Homebrew/homebrew-core/issues/76621\u001B[0m\u001B[33m\r\n",
      "\u001B[0mRequirement already satisfied: evaluate in /usr/local/lib/python3.9/site-packages (0.4.1)\r\n",
      "Requirement already satisfied: datasets>=2.0.0 in /usr/local/lib/python3.9/site-packages (from evaluate) (2.19.0)\r\n",
      "Requirement already satisfied: numpy>=1.17 in /usr/local/lib/python3.9/site-packages (from evaluate) (1.26.0)\r\n",
      "Requirement already satisfied: dill in /usr/local/lib/python3.9/site-packages (from evaluate) (0.3.8)\r\n",
      "Requirement already satisfied: pandas in /usr/local/lib/python3.9/site-packages (from evaluate) (2.1.1)\r\n",
      "Requirement already satisfied: requests>=2.19.0 in /usr/local/lib/python3.9/site-packages (from evaluate) (2.31.0)\r\n",
      "Requirement already satisfied: tqdm>=4.62.1 in /usr/local/lib/python3.9/site-packages (from evaluate) (4.66.1)\r\n",
      "Requirement already satisfied: xxhash in /usr/local/lib/python3.9/site-packages (from evaluate) (3.4.1)\r\n",
      "Requirement already satisfied: multiprocess in /usr/local/lib/python3.9/site-packages (from evaluate) (0.70.16)\r\n",
      "Requirement already satisfied: fsspec>=2021.05.0 in /usr/local/lib/python3.9/site-packages (from fsspec[http]>=2021.05.0->evaluate) (2023.9.2)\r\n",
      "Requirement already satisfied: huggingface-hub>=0.7.0 in /usr/local/lib/python3.9/site-packages (from evaluate) (0.22.2)\r\n",
      "Requirement already satisfied: packaging in /usr/local/lib/python3.9/site-packages (from evaluate) (23.2)\r\n",
      "Requirement already satisfied: responses<0.19 in /usr/local/lib/python3.9/site-packages (from evaluate) (0.18.0)\r\n",
      "Requirement already satisfied: filelock in /usr/local/lib/python3.9/site-packages (from datasets>=2.0.0->evaluate) (3.12.4)\r\n",
      "Requirement already satisfied: pyarrow>=12.0.0 in /usr/local/lib/python3.9/site-packages (from datasets>=2.0.0->evaluate) (16.0.0)\r\n",
      "Requirement already satisfied: pyarrow-hotfix in /usr/local/lib/python3.9/site-packages (from datasets>=2.0.0->evaluate) (0.6)\r\n",
      "Requirement already satisfied: aiohttp in /usr/local/lib/python3.9/site-packages (from datasets>=2.0.0->evaluate) (3.9.5)\r\n",
      "Requirement already satisfied: pyyaml>=5.1 in /usr/local/lib/python3.9/site-packages (from datasets>=2.0.0->evaluate) (6.0.1)\r\n",
      "Requirement already satisfied: typing-extensions>=3.7.4.3 in /usr/local/lib/python3.9/site-packages (from huggingface-hub>=0.7.0->evaluate) (4.8.0)\r\n",
      "Requirement already satisfied: charset-normalizer<4,>=2 in /usr/local/lib/python3.9/site-packages (from requests>=2.19.0->evaluate) (3.3.0)\r\n",
      "Requirement already satisfied: idna<4,>=2.5 in /usr/local/lib/python3.9/site-packages (from requests>=2.19.0->evaluate) (3.4)\r\n",
      "Requirement already satisfied: urllib3<3,>=1.21.1 in /usr/local/lib/python3.9/site-packages (from requests>=2.19.0->evaluate) (2.0.6)\r\n",
      "Requirement already satisfied: certifi>=2017.4.17 in /usr/local/lib/python3.9/site-packages (from requests>=2.19.0->evaluate) (2023.7.22)\r\n",
      "Requirement already satisfied: python-dateutil>=2.8.2 in /usr/local/lib/python3.9/site-packages (from pandas->evaluate) (2.8.2)\r\n",
      "Requirement already satisfied: pytz>=2020.1 in /usr/local/lib/python3.9/site-packages (from pandas->evaluate) (2023.3.post1)\r\n",
      "Requirement already satisfied: tzdata>=2022.1 in /usr/local/lib/python3.9/site-packages (from pandas->evaluate) (2023.3)\r\n",
      "Requirement already satisfied: aiosignal>=1.1.2 in /usr/local/lib/python3.9/site-packages (from aiohttp->datasets>=2.0.0->evaluate) (1.3.1)\r\n",
      "Requirement already satisfied: attrs>=17.3.0 in /usr/local/lib/python3.9/site-packages (from aiohttp->datasets>=2.0.0->evaluate) (23.1.0)\r\n",
      "Requirement already satisfied: frozenlist>=1.1.1 in /usr/local/lib/python3.9/site-packages (from aiohttp->datasets>=2.0.0->evaluate) (1.4.1)\r\n",
      "Requirement already satisfied: multidict<7.0,>=4.5 in /usr/local/lib/python3.9/site-packages (from aiohttp->datasets>=2.0.0->evaluate) (6.0.5)\r\n",
      "Requirement already satisfied: yarl<2.0,>=1.0 in /usr/local/lib/python3.9/site-packages (from aiohttp->datasets>=2.0.0->evaluate) (1.9.4)\r\n",
      "Requirement already satisfied: async-timeout<5.0,>=4.0 in /usr/local/lib/python3.9/site-packages (from aiohttp->datasets>=2.0.0->evaluate) (4.0.3)\r\n",
      "Requirement already satisfied: six>=1.5 in /usr/local/lib/python3.9/site-packages (from python-dateutil>=2.8.2->pandas->evaluate) (1.16.0)\r\n",
      "\u001B[33mDEPRECATION: Configuring installation scheme with distutils config files is deprecated and will no longer work in the near future. If you are using a Homebrew or Linuxbrew Python, please see discussion at https://github.com/Homebrew/homebrew-core/issues/76621\u001B[0m\u001B[33m\r\n",
      "\u001B[0m"
     ]
    },
    {
     "name": "stderr",
     "output_type": "stream",
     "text": [
      "huggingface/tokenizers: The current process just got forked, after parallelism has already been used. Disabling parallelism to avoid deadlocks...\n",
      "To disable this warning, you can either:\n",
      "\t- Avoid using `tokenizers` before the fork if possible\n",
      "\t- Explicitly set the environment variable TOKENIZERS_PARALLELISM=(true | false)\n"
     ]
    },
    {
     "name": "stdout",
     "output_type": "stream",
     "text": [
      "\u001B[33mDEPRECATION: Configuring installation scheme with distutils config files is deprecated and will no longer work in the near future. If you are using a Homebrew or Linuxbrew Python, please see discussion at https://github.com/Homebrew/homebrew-core/issues/76621\u001B[0m\u001B[33m\r\n",
      "\u001B[0mRequirement already satisfied: nltk in /usr/local/lib/python3.9/site-packages (3.8.1)\r\n",
      "Requirement already satisfied: click in /usr/local/lib/python3.9/site-packages (from nltk) (8.1.7)\r\n",
      "Requirement already satisfied: joblib in /usr/local/lib/python3.9/site-packages (from nltk) (1.3.2)\r\n",
      "Requirement already satisfied: regex>=2021.8.3 in /usr/local/lib/python3.9/site-packages (from nltk) (2023.12.25)\r\n",
      "Requirement already satisfied: tqdm in /usr/local/lib/python3.9/site-packages (from nltk) (4.66.1)\r\n"
     ]
    }
   ],
   "execution_count": null
  },
  {
   "metadata": {
    "ExecuteTime": {
     "end_time": "2024-04-28T16:09:01.325672Z",
     "start_time": "2024-04-28T16:07:58.460794Z"
    }
   },
   "cell_type": "code",
   "source": [
    "import pandas as pd\n",
    "import os\n",
    "\n",
    "folder_path = os.getcwd() + \"/translations\"\n",
    "\n",
    "for root, dirs, files in os.walk(folder_path):\n",
    "    for file_name in files:\n",
    "        file_path = os.path.join(root, file_name)\n",
    "        df = pd.read_csv(file_path)\n",
    "        print(f\"File: {file_path}\")\n",
    "\n",
    "        for metric in SimilarityMetric:\n",
    "            score = metric.evaluate(df[\"Reference\"].tolist(), df[\"Actual\"].tolist())\n",
    "            print(f\"\\t{metric.name}: {score}\")\n"
   ],
   "id": "70fab52bafd2838e",
   "outputs": [
    {
     "name": "stdout",
     "output_type": "stream",
     "text": [
      "File: /Users/zaki/PycharmProjects/hpo_translation/pretrained_models/preliminary_experiments/translations/abstract5/facebook.csv\n",
      "\tSACREBLEU: 18.7\n",
      "\tSEMANTIC_SIMILARITY: 0.8756338953971863\n",
      "\tEDIT_DISTANCE: 0.4411531474040361\n",
      "File: /Users/zaki/PycharmProjects/hpo_translation/pretrained_models/preliminary_experiments/translations/abstract5/Helsinki-NLP.csv\n",
      "\tSACREBLEU: 34.2\n",
      "\tSEMANTIC_SIMILARITY: 0.951473867893219\n",
      "\tEDIT_DISTANCE: 0.6284120710816267\n",
      "File: /Users/zaki/PycharmProjects/hpo_translation/pretrained_models/preliminary_experiments/translations/abstract5/t5-base.csv\n",
      "\tSACREBLEU: 0.1\n",
      "\tSEMANTIC_SIMILARITY: 0.7258614778518677\n",
      "\tEDIT_DISTANCE: 0.18300006923955556\n"
     ]
    }
   ],
   "execution_count": 24
  }
 ],
 "metadata": {
  "kernelspec": {
   "display_name": "Python 3 (ipykernel)",
   "language": "python",
   "name": "python3"
  },
  "language_info": {
   "codemirror_mode": {
    "name": "ipython",
    "version": 3
   },
   "file_extension": ".py",
   "mimetype": "text/x-python",
   "name": "python",
   "nbconvert_exporter": "python",
   "pygments_lexer": "ipython3",
   "version": "3.9.19"
  }
 },
 "nbformat": 4,
 "nbformat_minor": 5
}
