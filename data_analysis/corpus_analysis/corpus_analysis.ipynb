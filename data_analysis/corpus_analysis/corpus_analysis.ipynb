{
 "cells": [
  {
   "metadata": {
    "ExecuteTime": {
     "end_time": "2024-05-19T08:38:59.381083Z",
     "start_time": "2024-05-19T08:38:59.375353Z"
    }
   },
   "cell_type": "code",
   "source": [
    "import string\n",
    "import pandas as pd\n",
    "import nltk\n",
    "from nltk.tokenize import word_tokenize\n",
    "\n",
    "nltk.download('punkt')\n",
    "\n",
    "\n",
    "def num_pairs(df: pd.DataFrame) -> int:\n",
    "    return df.shape[0]\n",
    "\n",
    "\n",
    "def avg_source_length(df: pd.DataFrame) -> float:\n",
    "    return df['en'].apply(lambda x: len(x.split())).mean()\n",
    "\n",
    "\n",
    "def avg_target_length(df: pd.DataFrame) -> float:\n",
    "    return df['es'].apply(lambda x: len(x.split())).mean()\n",
    "\n",
    "\n",
    "def source_vocabulary_size(df: pd.DataFrame) -> int:\n",
    "    return len(set(' '.join(df['en']).split()))\n",
    "\n",
    "\n",
    "def target_vocabulary_size(df: pd.DataFrame) -> int:\n",
    "    return len(set(' '.join(df['es']).split()))\n",
    "\n",
    "\n",
    "def punctuation_rate(df: pd.DataFrame, lang) -> float:\n",
    "    total_tokens = 0\n",
    "    punctuation_tokens = 0\n",
    "    for phrase in df[lang]:\n",
    "        if lang == 'es':\n",
    "            tokens = word_tokenize(phrase, language='spanish')\n",
    "        else:\n",
    "            tokens = word_tokenize(phrase)\n",
    "\n",
    "        total_tokens += len(tokens)\n",
    "        for token in tokens:\n",
    "            if token in string.punctuation:\n",
    "                punctuation_tokens += 1\n",
    "\n",
    "    if total_tokens == 0:\n",
    "        return 0.0\n",
    "    return punctuation_tokens / total_tokens"
   ],
   "id": "b7180759068cf20f",
   "execution_count": 9,
   "outputs": []
  },
  {
   "cell_type": "code",
   "id": "initial_id",
   "metadata": {
    "collapsed": true,
    "ExecuteTime": {
     "end_time": "2024-05-19T08:40:58.037618Z",
     "start_time": "2024-05-19T08:38:59.384261Z"
    }
   },
   "source": [
    "import json\n",
    "import os\n",
    "import pandas as pd\n",
    "\n",
    "directory = \"train\"\n",
    "folder_path = \"../../corpus/%s\" % directory\n",
    "\n",
    "for root, dirs, files in os.walk(folder_path):\n",
    "    results_df = pd.DataFrame(\n",
    "        columns=['name', 'pairs', 'avg source length', 'avg target length', 'source vocabulary size', 'target vocabulary size', 'source punctuation rate', 'target punctuation rate'])\n",
    "    \n",
    "    for file_name in files:\n",
    "        corpus_df = pd.DataFrame(columns=['en', 'es'])\n",
    "        file_path = os.path.join(root, file_name)\n",
    "        with open(file_path, 'r', encoding='utf-8') as file:\n",
    "            for line in file:\n",
    "                data = json.loads(line)\n",
    "                en, es = data['en'], data['es']\n",
    "                corpus_df.loc[len(corpus_df.index)] = [en, es]\n",
    "\n",
    "        results_df.loc[len(results_df.index)] = [file_name,\n",
    "                                                 num_pairs(corpus_df),\n",
    "                                                 avg_source_length(corpus_df),\n",
    "                                                 avg_target_length(corpus_df),\n",
    "                                                 source_vocabulary_size(corpus_df),\n",
    "                                                 target_vocabulary_size(corpus_df),\n",
    "                                                 punctuation_rate(corpus_df, 'en'),\n",
    "                                                 punctuation_rate(corpus_df, 'es')]\n",
    "\n",
    "    results_df.to_csv(f\"{directory}.csv\", index=False)"
   ],
   "execution_count": 10,
   "outputs": []
  }
 ],
 "metadata": {
  "kernelspec": {
   "display_name": "Python 3",
   "language": "python",
   "name": "python3"
  },
  "language_info": {
   "codemirror_mode": {
    "name": "ipython",
    "version": 2
   },
   "file_extension": ".py",
   "mimetype": "text/x-python",
   "name": "python",
   "nbconvert_exporter": "python",
   "pygments_lexer": "ipython2",
   "version": "2.7.6"
  }
 },
 "nbformat": 4,
 "nbformat_minor": 5
}
