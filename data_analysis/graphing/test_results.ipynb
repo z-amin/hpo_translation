{
 "cells": [
  {
   "metadata": {},
   "cell_type": "markdown",
   "source": "# Test results graphing",
   "id": "c0f830a2509c750c"
  },
  {
   "metadata": {},
   "cell_type": "markdown",
   "source": "## Mean averages",
   "id": "a4a61e107460add4"
  },
  {
   "metadata": {
    "ExecuteTime": {
     "end_time": "2024-06-08T11:06:46.034245Z",
     "start_time": "2024-06-08T11:06:46.005071Z"
    }
   },
   "cell_type": "code",
   "source": [
    "import pandas as pd\n",
    "import plotly.graph_objects as go\n",
    "\n",
    "\n",
    "def plot_mean_bar_chart(df: pd.DataFrame,\n",
    "                        lowest_score: int,\n",
    "                        highest_score: int):\n",
    "    fig = go.Figure()\n",
    "\n",
    "    for column in df.columns:\n",
    "        fig.add_trace(go.Bar(x=df.index, y=df[column], name=column))\n",
    "\n",
    "    fig.update_layout(barmode='group',\n",
    "                      xaxis=dict(title='Metric'),\n",
    "                      yaxis=dict(title='Mean score', range=[lowest_score, highest_score],\n",
    "                                 tickvals=list(range(lowest_score, highest_score + 1, 5))),\n",
    "                      width=800,\n",
    "                      legend=dict(x=0, y=1))\n",
    "\n",
    "    fig.show()"
   ],
   "id": "306b750eed0f2d37",
   "execution_count": 5,
   "outputs": []
  },
  {
   "metadata": {
    "ExecuteTime": {
     "end_time": "2024-06-08T11:06:46.134525Z",
     "start_time": "2024-06-08T11:06:46.078633Z"
    }
   },
   "cell_type": "code",
   "source": [
    "mean_results = pd.DataFrame([['FT All', 51.7, 63.5, 94.4],\n",
    "                             ['FT CL', 49.0, 61.2, 94.1],\n",
    "                             ['Helsinki-NLP', 46.2, 55.4, 93.6],\n",
    "                             ['NLLB 3.3B', 44.7, 51.3, 92.8],\n",
    "                             ['MADLAD-400', 48.7, 55.6, 93.5]],\n",
    "                            columns=['Model', 'SacreBLEU', '`TER`', 'Semantic similarity'])\n",
    "mean_results = mean_results.set_index('Model').T\n",
    "\n",
    "plot_mean_bar_chart(mean_results, 40, 95)"
   ],
   "id": "21765b7427a3b3e1",
   "execution_count": 6,
   "outputs": []
  },
  {
   "metadata": {},
   "cell_type": "markdown",
   "source": "## SacreBLEU scores",
   "id": "4c52210181bb9582"
  },
  {
   "metadata": {
    "ExecuteTime": {
     "end_time": "2024-06-08T11:06:46.155348Z",
     "start_time": "2024-06-08T11:06:46.140257Z"
    }
   },
   "cell_type": "code",
   "source": [
    "def plot_sacrebleu_bar_chart(df: pd.DataFrame):\n",
    "    trace1 = go.Bar(x=df['Dataset'], y=df['FT All'], name='FT All')\n",
    "    trace2 = go.Bar(x=df['Dataset'], y=df['FT CL'], name='FT CL')\n",
    "    trace3 = go.Bar(x=df['Dataset'], y=df['Helsinki-NLP'], name='Helsinki-NLP')\n",
    "    trace4 = go.Bar(x=df['Dataset'], y=df['NLLB 3B'], name='NLLB 3B')\n",
    "    trace5 = go.Bar(x=df['Dataset'], y=df['MADLAD-400'], name='MADLAD-400')\n",
    "    \n",
    "    data = [trace1, trace2, trace3, trace4, trace5]\n",
    "    \n",
    "    layout = go.Layout(title='SacreBLEU Scores for Machine Translation Models',\n",
    "                       xaxis=dict(title='Dataset'),\n",
    "                       yaxis=dict(title='SacreBLEU Score'),\n",
    "                       barmode='group')\n",
    "    \n",
    "    # Create the figure and plot\n",
    "    fig = go.Figure(data=data, layout=layout)\n",
    "    fig.show()"
   ],
   "id": "3dddb76927a1cfec",
   "execution_count": 7,
   "outputs": []
  },
  {
   "metadata": {
    "ExecuteTime": {
     "end_time": "2024-06-08T11:06:47.594018Z",
     "start_time": "2024-06-08T11:06:46.159210Z"
    }
   },
   "cell_type": "code",
   "source": [
    "sacrebleu_results = pd.DataFrame([['clinspen-te', 54.5, 39.0, 34.9, 37.6],\n",
    "                                  ['hpo', 48.7, 47.8, 44.5, 53.8],\n",
    "                                  ['khresmoi-te', 47.9, 49.5, 49.3, 50.0],\n",
    "                                  ['orphanet-definitions-te', 61.4, 46.3, 45.8, 50.7],\n",
    "                                  ['pubmed-te', 45.9, 48.4, 49.0, 51.6]],\n",
    "                                 columns=['Dataset', 'FT All', 'FT CL', 'Helsinki-NLP', 'NLLB 3B', 'MADLAD-400'])\n",
    "\n",
    "plot_sacrebleu_bar_chart(sacrebleu_results)"
   ],
   "id": "ffbc9080b768ba2a",
   "execution_count": 8,
   "outputs": []
  }
 ],
 "metadata": {
  "kernelspec": {
   "display_name": "Python 3",
   "language": "python",
   "name": "python3"
  },
  "language_info": {
   "codemirror_mode": {
    "name": "ipython",
    "version": 2
   },
   "file_extension": ".py",
   "mimetype": "text/x-python",
   "name": "python",
   "nbconvert_exporter": "python",
   "pygments_lexer": "ipython2",
   "version": "2.7.6"
  }
 },
 "nbformat": 4,
 "nbformat_minor": 5
}
