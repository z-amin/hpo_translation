{
 "cells": [
  {
   "metadata": {},
   "cell_type": "markdown",
   "source": "# Model execution times",
   "id": "dff83577ce06d689"
  },
  {
   "metadata": {
    "ExecuteTime": {
     "end_time": "2024-06-08T11:06:39.438985Z",
     "start_time": "2024-06-08T11:06:39.414791Z"
    }
   },
   "cell_type": "code",
   "source": [
    "import plotly.graph_objects as go\n",
    "\n",
    "\n",
    "def time_per_translation(times: list[int], sizes: list[int]):\n",
    "    return [time / dataset_length for time, dataset_length in zip(times, sizes)]\n",
    "\n",
    "\n",
    "dataset_names = [\"clinspen-te\", \"hpo\", \"khresmoi-te\", \"orphanet-definitions-te\", \"pubmed-te\"]\n",
    "mean_source_lengths = [4.9, 3.8, 18.4, 48.2, 23.2]\n",
    "dataset_sizes = [2519, 17875, 500, 703, 699]\n",
    "\n",
    "# Sort the lists by average source length to improve line drawing\n",
    "sorted_indices = sorted(range(len(mean_source_lengths)),\n",
    "                        key=lambda k: mean_source_lengths[k])\n",
    "mean_source_lengths = [mean_source_lengths[i] for i in sorted_indices]\n",
    "\n",
    "\n",
    "def plot_times(finetuned: list[int], nllb: list[int], madlad: list[int]):\n",
    "    fine_tuned = time_per_translation(finetuned, dataset_sizes)\n",
    "    nllb = time_per_translation(nllb, dataset_sizes)\n",
    "    madlad = time_per_translation(madlad, dataset_sizes)\n",
    "\n",
    "    fine_tuned = [fine_tuned[i] for i in sorted_indices]\n",
    "    nllb = [nllb[i] for i in sorted_indices]\n",
    "    madlad = [madlad[i] for i in sorted_indices]\n",
    "\n",
    "    fine_tuned_trace = go.Scatter(x=mean_source_lengths, y=fine_tuned, mode='markers+lines', name='FT All')\n",
    "    nllb_trace = go.Scatter(x=mean_source_lengths, y=nllb, mode='markers+lines', name='NLLB 3B')\n",
    "    madlad_trace = go.Scatter(x=mean_source_lengths, y=madlad, mode='markers+lines', name='MADLAD-400')\n",
    "\n",
    "    layout = go.Layout(title='Execution Time Plot',\n",
    "                       xaxis=dict(title='Mean source length (words)', dtick=5),\n",
    "                       yaxis=dict(title='Mean translation time (s)', dtick=3))\n",
    "\n",
    "    # Create a Figure object and display the plot\n",
    "    fig = go.Figure(data=[fine_tuned_trace, nllb_trace, madlad_trace], layout=layout)\n",
    "    fig.show()"
   ],
   "id": "cef186a10de4b7a3",
   "execution_count": 19,
   "outputs": []
  },
  {
   "metadata": {},
   "cell_type": "markdown",
   "source": "## GPU execution times",
   "id": "99fed8ba0ffc4792"
  },
  {
   "metadata": {
    "ExecuteTime": {
     "end_time": "2024-06-08T11:06:39.496460Z",
     "start_time": "2024-06-08T11:06:39.464302Z"
    }
   },
   "cell_type": "code",
   "source": [
    "gpu_finetuned = [521, 3489, 275, 1247, 496]\n",
    "gpu_nllb = [5113, 34519, 2605, 10135, 4405]\n",
    "gpu_madlad = [1935, 11277, 978, 4091, 1800]\n",
    "plot_times(gpu_finetuned, gpu_nllb, gpu_madlad)"
   ],
   "id": "b8446a56dfd2c4a2",
   "execution_count": 20,
   "outputs": []
  }
 ],
 "metadata": {
  "kernelspec": {
   "display_name": "Python 3",
   "language": "python",
   "name": "python3"
  },
  "language_info": {
   "codemirror_mode": {
    "name": "ipython",
    "version": 2
   },
   "file_extension": ".py",
   "mimetype": "text/x-python",
   "name": "python",
   "nbconvert_exporter": "python",
   "pygments_lexer": "ipython2",
   "version": "2.7.6"
  }
 },
 "nbformat": 4,
 "nbformat_minor": 5
}
