{
 "cells": [
  {
   "metadata": {},
   "cell_type": "markdown",
   "source": "# Complexity scattering for fine-tuned and original models",
   "id": "5c8fc7b611c10ff"
  },
  {
   "metadata": {
    "ExecuteTime": {
     "end_time": "2024-06-08T16:42:15.637914Z",
     "start_time": "2024-06-08T16:42:15.031726Z"
    }
   },
   "cell_type": "code",
   "source": [
    "import seaborn as sns\n",
    "import pandas as pd\n",
    "import matplotlib.pyplot as plt\n",
    "\n",
    "# Dataset properties\n",
    "dataset_names = ['clinspen-te', 'hpo', 'khresmoi-te', 'orphanet-definitions-te', 'pubmed-te']\n",
    "target_vocab_sizes = [4893, 10776, 3324, 7796, 5563]\n",
    "target_lengths = [5.5, 4.9, 20.5, 56.7, 26.9]\n",
    "number_pairs = [2519, 17875, 500, 703, 699]\n",
    "target_punctuation_rates = [0.09, 0.01, 0.09, 0.13, 0.12]\n",
    "vocab_density = [v / (n * l) for v, n, l in zip(target_vocab_sizes, number_pairs, target_lengths)]\n",
    "\n",
    "# Dataset SacreBLEU scores\n",
    "original_sacrebleu = [39, 47.8, 49.5, 46.3, 48.4]\n",
    "finetuned_all_sacrebleu = [54.5, 48.7, 47.9, 61.4, 45.9]\n",
    "finetuned_cl_sacrebleu = [40.7, 49.8, 48.5, 57.7, 48.2]\n",
    "\n",
    "data = {\n",
    "    'Target Vocab Size': target_vocab_sizes,\n",
    "    'Target Mean Length': target_lengths,\n",
    "    'Target Punctuation Rate': target_punctuation_rates,\n",
    "    'Vocabulary Density': vocab_density,\n",
    "    'Helsinki-NLP': original_sacrebleu,\n",
    "    'FT All': finetuned_all_sacrebleu,\n",
    "    'FT CL': finetuned_cl_sacrebleu\n",
    "}\n",
    "\n",
    "df = pd.DataFrame(data, index=dataset_names)\n",
    "\n",
    "corr_subset = df[\n",
    "    ['Vocabulary Density', 'Target Mean Length', 'Target Punctuation Rate', 'Helsinki-NLP', 'FT All', 'FT CL']].corr()\n",
    "\n",
    "# Extract correlations related to SacreBLEU scores\n",
    "sacrebleu_corr = corr_subset.loc[\n",
    "    ['Helsinki-NLP', 'FT All', 'FT CL'], ['Vocabulary Density', 'Target Mean Length', 'Target Punctuation Rate']]\n",
    "\n",
    "# Heatmap plot\n",
    "plt.figure(figsize=(10, 8))\n",
    "sns.heatmap(sacrebleu_corr, annot=True, cmap='coolwarm', vmin=-1, vmax=1, annot_kws={\"size\": 14})\n",
    "plt.title('Correlation Between SacreBLEU Scores and Dataset Metrics')\n",
    "plt.show()"
   ],
   "id": "dfd701edfd05844",
   "execution_count": 55,
   "outputs": []
  }
 ],
 "metadata": {
  "kernelspec": {
   "display_name": "Python 3",
   "language": "python",
   "name": "python3"
  },
  "language_info": {
   "codemirror_mode": {
    "name": "ipython",
    "version": 2
   },
   "file_extension": ".py",
   "mimetype": "text/x-python",
   "name": "python",
   "nbconvert_exporter": "python",
   "pygments_lexer": "ipython2",
   "version": "2.7.6"
  }
 },
 "nbformat": 4,
 "nbformat_minor": 5
}
