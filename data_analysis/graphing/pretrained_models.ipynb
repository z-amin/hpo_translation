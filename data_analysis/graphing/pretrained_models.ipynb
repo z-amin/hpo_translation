{
 "cells": [
  {
   "metadata": {
    "ExecuteTime": {
     "end_time": "2024-05-20T10:34:36.568403Z",
     "start_time": "2024-05-20T10:34:36.552396Z"
    }
   },
   "cell_type": "code",
   "source": [
    "import pandas as pd\n",
    "from matplotlib import pyplot as plt\n",
    "\n",
    "\n",
    "def plot_grouped_bar_chart(df: pd.DataFrame,\n",
    "                           lowest_score: int,\n",
    "                           highest_score: int):\n",
    "    ax = df.plot(x='Model',\n",
    "                 kind='bar',\n",
    "                 grid=True,\n",
    "                 stacked=False,\n",
    "                 title='Metrics for pre-trained models')\n",
    "\n",
    "    ax.set_xlabel('Model', fontsize=12)\n",
    "    ax.set_ylabel('Scores', fontsize=12)\n",
    "    ax.set_ylim(lowest_score, highest_score)\n",
    "    ax.set_yticks(range(lowest_score, highest_score + 1, 10))\n",
    "\n",
    "    ax.tick_params(axis='x', rotation=45)\n",
    "\n",
    "    plt.legend(loc='right')\n",
    "\n",
    "    plt.grid(True, linestyle='--', linewidth=0.5, color='gray')\n",
    "    plt.show()"
   ],
   "id": "306b750eed0f2d37",
   "execution_count": 4,
   "outputs": []
  },
  {
   "cell_type": "code",
   "id": "initial_id",
   "metadata": {
    "collapsed": true,
    "ExecuteTime": {
     "end_time": "2024-05-20T10:34:36.868677Z",
     "start_time": "2024-05-20T10:34:36.598324Z"
    }
   },
   "source": [
    "pretrained_data = pd.DataFrame([['Helsinki-NLP', 41.0, 49.7, 91.3],\n",
    "                                ['Meta NLLB 600M', 34.5, 36.8, 89.8],\n",
    "                                ['Meta NLLB 3.3B', 36.0, 37.7, 89.8],\n",
    "                                ['Google MADLAD', 42.2, 48.1, 91.1]],\n",
    "                               columns=['Model', 'SacreBLEU', '`WER`', 'Semantic similarity'])\n",
    "\n",
    "plot_grouped_bar_chart(pretrained_data, 30, 95)"
   ],
   "execution_count": 5,
   "outputs": []
  },
  {
   "metadata": {
    "ExecuteTime": {
     "end_time": "2024-05-20T10:34:37.112016Z",
     "start_time": "2024-05-20T10:34:36.871111Z"
    }
   },
   "cell_type": "code",
   "source": [
    "test_data = pd.DataFrame([['Fine-tuned Helsinki-NLP', 43.2, 51.3, 91.7],\n",
    "                          ['Helsinki-NLP', 37.8, 45.4, 90.9],\n",
    "                          ['Meta NLLB 3.3B', 37.8, 45.4, 90.9],\n",
    "                          ['Google MADLAD', 40.4, 47.3, 91.1]],\n",
    "                         columns=['Model', 'SacreBLEU', '`WER`', 'Semantic similarity'])\n",
    "\n",
    "plot_grouped_bar_chart(pretrained_data, 35, 95)"
   ],
   "id": "d1c138e9c76d7045",
   "execution_count": 6,
   "outputs": []
  }
 ],
 "metadata": {
  "kernelspec": {
   "display_name": "Python 3",
   "language": "python",
   "name": "python3"
  },
  "language_info": {
   "codemirror_mode": {
    "name": "ipython",
    "version": 2
   },
   "file_extension": ".py",
   "mimetype": "text/x-python",
   "name": "python",
   "nbconvert_exporter": "python",
   "pygments_lexer": "ipython2",
   "version": "2.7.6"
  }
 },
 "nbformat": 4,
 "nbformat_minor": 5
}
